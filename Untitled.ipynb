{
 "cells": [
  {
   "cell_type": "code",
   "execution_count": 1,
   "id": "ffda2830",
   "metadata": {},
   "outputs": [],
   "source": [
    "import numpy as np\n",
    "import pandas as pd"
   ]
  },
  {
   "cell_type": "code",
   "execution_count": 2,
   "id": "b974ae02",
   "metadata": {},
   "outputs": [
    {
     "name": "stderr",
     "output_type": "stream",
     "text": [
      "C:\\Users\\Asus\\AppData\\Local\\Temp\\ipykernel_21864\\4124160913.py:1: DtypeWarning: Columns (10) have mixed types. Specify dtype option on import or set low_memory=False.\n",
      "  dataset = pd.read_csv('movies_metadata.csv')\n"
     ]
    },
    {
     "data": {
      "text/html": [
       "<div>\n",
       "<style scoped>\n",
       "    .dataframe tbody tr th:only-of-type {\n",
       "        vertical-align: middle;\n",
       "    }\n",
       "\n",
       "    .dataframe tbody tr th {\n",
       "        vertical-align: top;\n",
       "    }\n",
       "\n",
       "    .dataframe thead th {\n",
       "        text-align: right;\n",
       "    }\n",
       "</style>\n",
       "<table border=\"1\" class=\"dataframe\">\n",
       "  <thead>\n",
       "    <tr style=\"text-align: right;\">\n",
       "      <th></th>\n",
       "      <th>adult</th>\n",
       "      <th>belongs_to_collection</th>\n",
       "      <th>budget</th>\n",
       "      <th>genres</th>\n",
       "      <th>homepage</th>\n",
       "      <th>id</th>\n",
       "      <th>imdb_id</th>\n",
       "      <th>original_language</th>\n",
       "      <th>original_title</th>\n",
       "      <th>overview</th>\n",
       "      <th>...</th>\n",
       "      <th>release_date</th>\n",
       "      <th>revenue</th>\n",
       "      <th>runtime</th>\n",
       "      <th>spoken_languages</th>\n",
       "      <th>status</th>\n",
       "      <th>tagline</th>\n",
       "      <th>title</th>\n",
       "      <th>video</th>\n",
       "      <th>vote_average</th>\n",
       "      <th>vote_count</th>\n",
       "    </tr>\n",
       "  </thead>\n",
       "  <tbody>\n",
       "    <tr>\n",
       "      <th>0</th>\n",
       "      <td>False</td>\n",
       "      <td>{'id': 10194, 'name': 'Toy Story Collection', ...</td>\n",
       "      <td>30000000</td>\n",
       "      <td>[{'id': 16, 'name': 'Animation'}, {'id': 35, '...</td>\n",
       "      <td>http://toystory.disney.com/toy-story</td>\n",
       "      <td>862</td>\n",
       "      <td>tt0114709</td>\n",
       "      <td>en</td>\n",
       "      <td>Toy Story</td>\n",
       "      <td>Led by Woody, Andy's toys live happily in his ...</td>\n",
       "      <td>...</td>\n",
       "      <td>1995-10-30</td>\n",
       "      <td>373554033.0</td>\n",
       "      <td>81.0</td>\n",
       "      <td>[{'iso_639_1': 'en', 'name': 'English'}]</td>\n",
       "      <td>Released</td>\n",
       "      <td>NaN</td>\n",
       "      <td>Toy Story</td>\n",
       "      <td>False</td>\n",
       "      <td>7.7</td>\n",
       "      <td>5415.0</td>\n",
       "    </tr>\n",
       "  </tbody>\n",
       "</table>\n",
       "<p>1 rows × 24 columns</p>\n",
       "</div>"
      ],
      "text/plain": [
       "   adult                              belongs_to_collection    budget  \\\n",
       "0  False  {'id': 10194, 'name': 'Toy Story Collection', ...  30000000   \n",
       "\n",
       "                                              genres  \\\n",
       "0  [{'id': 16, 'name': 'Animation'}, {'id': 35, '...   \n",
       "\n",
       "                               homepage   id    imdb_id original_language  \\\n",
       "0  http://toystory.disney.com/toy-story  862  tt0114709                en   \n",
       "\n",
       "  original_title                                           overview  ...  \\\n",
       "0      Toy Story  Led by Woody, Andy's toys live happily in his ...  ...   \n",
       "\n",
       "  release_date      revenue runtime                          spoken_languages  \\\n",
       "0   1995-10-30  373554033.0    81.0  [{'iso_639_1': 'en', 'name': 'English'}]   \n",
       "\n",
       "     status  tagline      title  video vote_average vote_count  \n",
       "0  Released      NaN  Toy Story  False          7.7     5415.0  \n",
       "\n",
       "[1 rows x 24 columns]"
      ]
     },
     "execution_count": 2,
     "metadata": {},
     "output_type": "execute_result"
    }
   ],
   "source": [
    "dataset = pd.read_csv('movies_metadata.csv')\n",
    "credits = pd.read_csv('credits.csv')\n",
    "keyword = pd.read_csv('keywords.csv')\n",
    "dataset.head(1)"
   ]
  },
  {
   "cell_type": "code",
   "execution_count": 3,
   "id": "de340c65",
   "metadata": {},
   "outputs": [
    {
     "data": {
      "text/html": [
       "<div>\n",
       "<style scoped>\n",
       "    .dataframe tbody tr th:only-of-type {\n",
       "        vertical-align: middle;\n",
       "    }\n",
       "\n",
       "    .dataframe tbody tr th {\n",
       "        vertical-align: top;\n",
       "    }\n",
       "\n",
       "    .dataframe thead th {\n",
       "        text-align: right;\n",
       "    }\n",
       "</style>\n",
       "<table border=\"1\" class=\"dataframe\">\n",
       "  <thead>\n",
       "    <tr style=\"text-align: right;\">\n",
       "      <th></th>\n",
       "      <th>genres</th>\n",
       "      <th>id</th>\n",
       "      <th>imdb_id</th>\n",
       "      <th>original_title</th>\n",
       "      <th>overview</th>\n",
       "      <th>popularity</th>\n",
       "      <th>poster_path</th>\n",
       "      <th>production_companies</th>\n",
       "      <th>production_countries</th>\n",
       "      <th>release_date</th>\n",
       "      <th>revenue</th>\n",
       "      <th>spoken_languages</th>\n",
       "      <th>status</th>\n",
       "      <th>vote_average</th>\n",
       "      <th>vote_count</th>\n",
       "    </tr>\n",
       "  </thead>\n",
       "  <tbody>\n",
       "    <tr>\n",
       "      <th>0</th>\n",
       "      <td>[{'id': 16, 'name': 'Animation'}, {'id': 35, '...</td>\n",
       "      <td>862</td>\n",
       "      <td>tt0114709</td>\n",
       "      <td>Toy Story</td>\n",
       "      <td>Led by Woody, Andy's toys live happily in his ...</td>\n",
       "      <td>21.946943</td>\n",
       "      <td>/rhIRbceoE9lR4veEXuwCC2wARtG.jpg</td>\n",
       "      <td>[{'name': 'Pixar Animation Studios', 'id': 3}]</td>\n",
       "      <td>[{'iso_3166_1': 'US', 'name': 'United States o...</td>\n",
       "      <td>1995-10-30</td>\n",
       "      <td>373554033.0</td>\n",
       "      <td>[{'iso_639_1': 'en', 'name': 'English'}]</td>\n",
       "      <td>Released</td>\n",
       "      <td>7.7</td>\n",
       "      <td>5415.0</td>\n",
       "    </tr>\n",
       "  </tbody>\n",
       "</table>\n",
       "</div>"
      ],
      "text/plain": [
       "                                              genres   id    imdb_id  \\\n",
       "0  [{'id': 16, 'name': 'Animation'}, {'id': 35, '...  862  tt0114709   \n",
       "\n",
       "  original_title                                           overview  \\\n",
       "0      Toy Story  Led by Woody, Andy's toys live happily in his ...   \n",
       "\n",
       "  popularity                       poster_path  \\\n",
       "0  21.946943  /rhIRbceoE9lR4veEXuwCC2wARtG.jpg   \n",
       "\n",
       "                             production_companies  \\\n",
       "0  [{'name': 'Pixar Animation Studios', 'id': 3}]   \n",
       "\n",
       "                                production_countries release_date  \\\n",
       "0  [{'iso_3166_1': 'US', 'name': 'United States o...   1995-10-30   \n",
       "\n",
       "       revenue                          spoken_languages    status  \\\n",
       "0  373554033.0  [{'iso_639_1': 'en', 'name': 'English'}]  Released   \n",
       "\n",
       "   vote_average  vote_count  \n",
       "0           7.7      5415.0  "
      ]
     },
     "execution_count": 3,
     "metadata": {},
     "output_type": "execute_result"
    }
   ],
   "source": [
    "dataset = dataset.drop(['budget','adult','belongs_to_collection','homepage','original_language','runtime','tagline','title','video'],axis=1)\n",
    "dataset.head(1)"
   ]
  },
  {
   "cell_type": "code",
   "execution_count": 4,
   "id": "cf5e702f",
   "metadata": {},
   "outputs": [
    {
     "data": {
      "text/plain": [
       "genres                    0\n",
       "id                        0\n",
       "imdb_id                  17\n",
       "original_title            0\n",
       "overview                954\n",
       "popularity                5\n",
       "poster_path             386\n",
       "production_companies      3\n",
       "production_countries      3\n",
       "release_date             87\n",
       "revenue                   6\n",
       "spoken_languages          6\n",
       "status                   87\n",
       "vote_average              6\n",
       "vote_count                6\n",
       "dtype: int64"
      ]
     },
     "execution_count": 4,
     "metadata": {},
     "output_type": "execute_result"
    }
   ],
   "source": [
    "dataset.isnull().sum()"
   ]
  },
  {
   "cell_type": "code",
   "execution_count": 5,
   "id": "f0b4d982",
   "metadata": {},
   "outputs": [],
   "source": [
    "dataset.dropna(inplace=True)"
   ]
  },
  {
   "cell_type": "code",
   "execution_count": 6,
   "id": "3dc63fa2",
   "metadata": {},
   "outputs": [
    {
     "data": {
      "text/plain": [
       "genres                  0\n",
       "id                      0\n",
       "imdb_id                 0\n",
       "original_title          0\n",
       "overview                0\n",
       "popularity              0\n",
       "poster_path             0\n",
       "production_companies    0\n",
       "production_countries    0\n",
       "release_date            0\n",
       "revenue                 0\n",
       "spoken_languages        0\n",
       "status                  0\n",
       "vote_average            0\n",
       "vote_count              0\n",
       "dtype: int64"
      ]
     },
     "execution_count": 6,
     "metadata": {},
     "output_type": "execute_result"
    }
   ],
   "source": [
    "dataset.isnull().sum()"
   ]
  },
  {
   "cell_type": "code",
   "execution_count": 7,
   "id": "72fe15ea",
   "metadata": {},
   "outputs": [
    {
     "data": {
      "text/plain": [
       "(44058, 15)"
      ]
     },
     "execution_count": 7,
     "metadata": {},
     "output_type": "execute_result"
    }
   ],
   "source": [
    "dataset.shape"
   ]
  },
  {
   "cell_type": "code",
   "execution_count": 8,
   "id": "2d45d900",
   "metadata": {},
   "outputs": [
    {
     "data": {
      "text/plain": [
       "13"
      ]
     },
     "execution_count": 8,
     "metadata": {},
     "output_type": "execute_result"
    }
   ],
   "source": [
    "dataset.duplicated().sum()"
   ]
  },
  {
   "cell_type": "code",
   "execution_count": 9,
   "id": "1fedfe91",
   "metadata": {},
   "outputs": [],
   "source": [
    "dataset = dataset.drop_duplicates()"
   ]
  },
  {
   "cell_type": "code",
   "execution_count": 10,
   "id": "19282aa7",
   "metadata": {},
   "outputs": [
    {
     "data": {
      "text/plain": [
       "(44045, 15)"
      ]
     },
     "execution_count": 10,
     "metadata": {},
     "output_type": "execute_result"
    }
   ],
   "source": [
    "dataset.shape"
   ]
  },
  {
   "cell_type": "code",
   "execution_count": 11,
   "id": "e61ffbf5",
   "metadata": {},
   "outputs": [
    {
     "data": {
      "text/html": [
       "<div>\n",
       "<style scoped>\n",
       "    .dataframe tbody tr th:only-of-type {\n",
       "        vertical-align: middle;\n",
       "    }\n",
       "\n",
       "    .dataframe tbody tr th {\n",
       "        vertical-align: top;\n",
       "    }\n",
       "\n",
       "    .dataframe thead th {\n",
       "        text-align: right;\n",
       "    }\n",
       "</style>\n",
       "<table border=\"1\" class=\"dataframe\">\n",
       "  <thead>\n",
       "    <tr style=\"text-align: right;\">\n",
       "      <th></th>\n",
       "      <th>genres</th>\n",
       "      <th>id</th>\n",
       "      <th>imdb_id</th>\n",
       "      <th>original_title</th>\n",
       "      <th>overview</th>\n",
       "      <th>popularity</th>\n",
       "      <th>poster_path</th>\n",
       "      <th>production_companies</th>\n",
       "      <th>production_countries</th>\n",
       "      <th>release_date</th>\n",
       "      <th>revenue</th>\n",
       "      <th>spoken_languages</th>\n",
       "      <th>status</th>\n",
       "      <th>vote_average</th>\n",
       "      <th>vote_count</th>\n",
       "    </tr>\n",
       "  </thead>\n",
       "  <tbody>\n",
       "    <tr>\n",
       "      <th>0</th>\n",
       "      <td>[{'id': 16, 'name': 'Animation'}, {'id': 35, '...</td>\n",
       "      <td>862</td>\n",
       "      <td>tt0114709</td>\n",
       "      <td>Toy Story</td>\n",
       "      <td>Led by Woody, Andy's toys live happily in his ...</td>\n",
       "      <td>21.946943</td>\n",
       "      <td>/rhIRbceoE9lR4veEXuwCC2wARtG.jpg</td>\n",
       "      <td>[{'name': 'Pixar Animation Studios', 'id': 3}]</td>\n",
       "      <td>[{'iso_3166_1': 'US', 'name': 'United States o...</td>\n",
       "      <td>1995-10-30</td>\n",
       "      <td>373554033.0</td>\n",
       "      <td>[{'iso_639_1': 'en', 'name': 'English'}]</td>\n",
       "      <td>Released</td>\n",
       "      <td>7.7</td>\n",
       "      <td>5415.0</td>\n",
       "    </tr>\n",
       "  </tbody>\n",
       "</table>\n",
       "</div>"
      ],
      "text/plain": [
       "                                              genres   id    imdb_id  \\\n",
       "0  [{'id': 16, 'name': 'Animation'}, {'id': 35, '...  862  tt0114709   \n",
       "\n",
       "  original_title                                           overview  \\\n",
       "0      Toy Story  Led by Woody, Andy's toys live happily in his ...   \n",
       "\n",
       "  popularity                       poster_path  \\\n",
       "0  21.946943  /rhIRbceoE9lR4veEXuwCC2wARtG.jpg   \n",
       "\n",
       "                             production_companies  \\\n",
       "0  [{'name': 'Pixar Animation Studios', 'id': 3}]   \n",
       "\n",
       "                                production_countries release_date  \\\n",
       "0  [{'iso_3166_1': 'US', 'name': 'United States o...   1995-10-30   \n",
       "\n",
       "       revenue                          spoken_languages    status  \\\n",
       "0  373554033.0  [{'iso_639_1': 'en', 'name': 'English'}]  Released   \n",
       "\n",
       "   vote_average  vote_count  \n",
       "0           7.7      5415.0  "
      ]
     },
     "execution_count": 11,
     "metadata": {},
     "output_type": "execute_result"
    }
   ],
   "source": [
    "dataset.head(1)"
   ]
  },
  {
   "cell_type": "code",
   "execution_count": 12,
   "id": "6a200fb5",
   "metadata": {},
   "outputs": [],
   "source": [
    "import ast"
   ]
  },
  {
   "cell_type": "code",
   "execution_count": 13,
   "id": "730ff778",
   "metadata": {},
   "outputs": [],
   "source": [
    "def convert(obj):\n",
    "    L = []\n",
    "    for i in ast.literal_eval(obj):\n",
    "        L.append(i['name'])\n",
    "    return L"
   ]
  },
  {
   "cell_type": "code",
   "execution_count": 14,
   "id": "2872d408",
   "metadata": {},
   "outputs": [],
   "source": [
    "dataset['genres'] = dataset['genres'].apply(convert)"
   ]
  },
  {
   "cell_type": "code",
   "execution_count": 15,
   "id": "5210b651",
   "metadata": {},
   "outputs": [],
   "source": [
    "dataset['production_companies'] = dataset['production_companies'].apply(convert)"
   ]
  },
  {
   "cell_type": "code",
   "execution_count": 16,
   "id": "9d314d82",
   "metadata": {},
   "outputs": [],
   "source": [
    "dataset['production_countries'] = dataset['production_countries'].apply(convert)"
   ]
  },
  {
   "cell_type": "code",
   "execution_count": 17,
   "id": "46a09e2f",
   "metadata": {},
   "outputs": [],
   "source": [
    "dataset['spoken_languages'] = dataset['spoken_languages'].apply(convert)"
   ]
  },
  {
   "cell_type": "code",
   "execution_count": 18,
   "id": "b5e26dae",
   "metadata": {},
   "outputs": [
    {
     "data": {
      "text/html": [
       "<div>\n",
       "<style scoped>\n",
       "    .dataframe tbody tr th:only-of-type {\n",
       "        vertical-align: middle;\n",
       "    }\n",
       "\n",
       "    .dataframe tbody tr th {\n",
       "        vertical-align: top;\n",
       "    }\n",
       "\n",
       "    .dataframe thead th {\n",
       "        text-align: right;\n",
       "    }\n",
       "</style>\n",
       "<table border=\"1\" class=\"dataframe\">\n",
       "  <thead>\n",
       "    <tr style=\"text-align: right;\">\n",
       "      <th></th>\n",
       "      <th>genres</th>\n",
       "      <th>id</th>\n",
       "      <th>imdb_id</th>\n",
       "      <th>original_title</th>\n",
       "      <th>overview</th>\n",
       "      <th>popularity</th>\n",
       "      <th>poster_path</th>\n",
       "      <th>production_companies</th>\n",
       "      <th>production_countries</th>\n",
       "      <th>release_date</th>\n",
       "      <th>revenue</th>\n",
       "      <th>spoken_languages</th>\n",
       "      <th>status</th>\n",
       "      <th>vote_average</th>\n",
       "      <th>vote_count</th>\n",
       "    </tr>\n",
       "  </thead>\n",
       "  <tbody>\n",
       "    <tr>\n",
       "      <th>0</th>\n",
       "      <td>[Animation, Comedy, Family]</td>\n",
       "      <td>862</td>\n",
       "      <td>tt0114709</td>\n",
       "      <td>Toy Story</td>\n",
       "      <td>Led by Woody, Andy's toys live happily in his ...</td>\n",
       "      <td>21.946943</td>\n",
       "      <td>/rhIRbceoE9lR4veEXuwCC2wARtG.jpg</td>\n",
       "      <td>[Pixar Animation Studios]</td>\n",
       "      <td>[United States of America]</td>\n",
       "      <td>1995-10-30</td>\n",
       "      <td>373554033.0</td>\n",
       "      <td>[English]</td>\n",
       "      <td>Released</td>\n",
       "      <td>7.7</td>\n",
       "      <td>5415.0</td>\n",
       "    </tr>\n",
       "  </tbody>\n",
       "</table>\n",
       "</div>"
      ],
      "text/plain": [
       "                        genres   id    imdb_id original_title  \\\n",
       "0  [Animation, Comedy, Family]  862  tt0114709      Toy Story   \n",
       "\n",
       "                                            overview popularity  \\\n",
       "0  Led by Woody, Andy's toys live happily in his ...  21.946943   \n",
       "\n",
       "                        poster_path       production_companies  \\\n",
       "0  /rhIRbceoE9lR4veEXuwCC2wARtG.jpg  [Pixar Animation Studios]   \n",
       "\n",
       "         production_countries release_date      revenue spoken_languages  \\\n",
       "0  [United States of America]   1995-10-30  373554033.0        [English]   \n",
       "\n",
       "     status  vote_average  vote_count  \n",
       "0  Released           7.7      5415.0  "
      ]
     },
     "execution_count": 18,
     "metadata": {},
     "output_type": "execute_result"
    }
   ],
   "source": [
    "dataset.head(1)"
   ]
  },
  {
   "cell_type": "code",
   "execution_count": 19,
   "id": "481d3ba5",
   "metadata": {},
   "outputs": [],
   "source": [
    "keyword['keywords'] = keyword['keywords'].apply(convert)"
   ]
  },
  {
   "cell_type": "code",
   "execution_count": 20,
   "id": "92446f98",
   "metadata": {},
   "outputs": [
    {
     "data": {
      "text/plain": [
       "array([list(['jealousy', 'toy', 'boy', 'friendship', 'friends', 'rivalry', 'boy next door', 'new toy', 'toy comes to life'])],\n",
       "      dtype=object)"
      ]
     },
     "execution_count": 20,
     "metadata": {},
     "output_type": "execute_result"
    }
   ],
   "source": [
    "keyword.head(1)['keywords'].values"
   ]
  },
  {
   "cell_type": "code",
   "execution_count": 21,
   "id": "561ecda6",
   "metadata": {},
   "outputs": [
    {
     "data": {
      "text/plain": [
       "array(['[{\\'credit_id\\': \\'52fe4284c3a36847f8024f49\\', \\'department\\': \\'Directing\\', \\'gender\\': 2, \\'id\\': 7879, \\'job\\': \\'Director\\', \\'name\\': \\'John Lasseter\\', \\'profile_path\\': \\'/7EdqiNbr4FRjIhKHyPPdFfEEEFG.jpg\\'}, {\\'credit_id\\': \\'52fe4284c3a36847f8024f4f\\', \\'department\\': \\'Writing\\', \\'gender\\': 2, \\'id\\': 12891, \\'job\\': \\'Screenplay\\', \\'name\\': \\'Joss Whedon\\', \\'profile_path\\': \\'/dTiVsuaTVTeGmvkhcyJvKp2A5kr.jpg\\'}, {\\'credit_id\\': \\'52fe4284c3a36847f8024f55\\', \\'department\\': \\'Writing\\', \\'gender\\': 2, \\'id\\': 7, \\'job\\': \\'Screenplay\\', \\'name\\': \\'Andrew Stanton\\', \\'profile_path\\': \\'/pvQWsu0qc8JFQhMVJkTHuexUAa1.jpg\\'}, {\\'credit_id\\': \\'52fe4284c3a36847f8024f5b\\', \\'department\\': \\'Writing\\', \\'gender\\': 2, \\'id\\': 12892, \\'job\\': \\'Screenplay\\', \\'name\\': \\'Joel Cohen\\', \\'profile_path\\': \\'/dAubAiZcvKFbboWlj7oXOkZnTSu.jpg\\'}, {\\'credit_id\\': \\'52fe4284c3a36847f8024f61\\', \\'department\\': \\'Writing\\', \\'gender\\': 0, \\'id\\': 12893, \\'job\\': \\'Screenplay\\', \\'name\\': \\'Alec Sokolow\\', \\'profile_path\\': \\'/v79vlRYi94BZUQnkkyznbGUZLjT.jpg\\'}, {\\'credit_id\\': \\'52fe4284c3a36847f8024f67\\', \\'department\\': \\'Production\\', \\'gender\\': 1, \\'id\\': 12894, \\'job\\': \\'Producer\\', \\'name\\': \\'Bonnie Arnold\\', \\'profile_path\\': None}, {\\'credit_id\\': \\'52fe4284c3a36847f8024f6d\\', \\'department\\': \\'Production\\', \\'gender\\': 0, \\'id\\': 12895, \\'job\\': \\'Executive Producer\\', \\'name\\': \\'Ed Catmull\\', \\'profile_path\\': None}, {\\'credit_id\\': \\'52fe4284c3a36847f8024f73\\', \\'department\\': \\'Production\\', \\'gender\\': 2, \\'id\\': 12896, \\'job\\': \\'Producer\\', \\'name\\': \\'Ralph Guggenheim\\', \\'profile_path\\': None}, {\\'credit_id\\': \\'52fe4284c3a36847f8024f79\\', \\'department\\': \\'Production\\', \\'gender\\': 2, \\'id\\': 12897, \\'job\\': \\'Executive Producer\\', \\'name\\': \\'Steve Jobs\\', \\'profile_path\\': \\'/mOMP3SwD5qWQSR0ldCIByd3guTV.jpg\\'}, {\\'credit_id\\': \\'52fe4284c3a36847f8024f8b\\', \\'department\\': \\'Editing\\', \\'gender\\': 2, \\'id\\': 8, \\'job\\': \\'Editor\\', \\'name\\': \\'Lee Unkrich\\', \\'profile_path\\': \\'/bdTCCXjgOV3YyaNmLGYGOxFQMOc.jpg\\'}, {\\'credit_id\\': \\'52fe4284c3a36847f8024f91\\', \\'department\\': \\'Art\\', \\'gender\\': 2, \\'id\\': 7883, \\'job\\': \\'Art Direction\\', \\'name\\': \\'Ralph Eggleston\\', \\'profile_path\\': \\'/uUfcGKDsKO1aROMpXRs67Hn6RvR.jpg\\'}, {\\'credit_id\\': \\'598331bf925141421201044b\\', \\'department\\': \\'Editing\\', \\'gender\\': 2, \\'id\\': 1168870, \\'job\\': \\'Editor\\', \\'name\\': \\'Robert Gordon\\', \\'profile_path\\': None}, {\\'credit_id\\': \\'5892168cc3a36809660095f9\\', \\'department\\': \\'Sound\\', \\'gender\\': 0, \\'id\\': 1552883, \\'job\\': \\'Foley Editor\\', \\'name\\': \\'Mary Helen Leasman\\', \\'profile_path\\': None}, {\\'credit_id\\': \\'5531824d9251415289000945\\', \\'department\\': \\'Visual Effects\\', \\'gender\\': 0, \\'id\\': 1453514, \\'job\\': \\'Animation\\', \\'name\\': \\'Kim Blanchette\\', \\'profile_path\\': None}, {\\'credit_id\\': \\'589215969251412dcb009bf6\\', \\'department\\': \\'Sound\\', \\'gender\\': 0, \\'id\\': 1414182, \\'job\\': \\'ADR Editor\\', \\'name\\': \\'Marilyn McCoppen\\', \\'profile_path\\': None}, {\\'credit_id\\': \\'589217099251412dc500a018\\', \\'department\\': \\'Sound\\', \\'gender\\': 2, \\'id\\': 7885, \\'job\\': \\'Orchestrator\\', \\'name\\': \\'Randy Newman\\', \\'profile_path\\': \\'/w0JzfoiM25nrnxYOzosPHRq6mlE.jpg\\'}, {\\'credit_id\\': \\'5693e6b29251417b0e0000e3\\', \\'department\\': \\'Editing\\', \\'gender\\': 0, \\'id\\': 1429549, \\'job\\': \\'Color Timer\\', \\'name\\': \\'Dale E. Grahn\\', \\'profile_path\\': None}, {\\'credit_id\\': \\'572e2522c3a36869e6001a9c\\', \\'department\\': \\'Visual Effects\\', \\'gender\\': 0, \\'id\\': 7949, \\'job\\': \\'CG Painter\\', \\'name\\': \\'Robin Cooper\\', \\'profile_path\\': None}, {\\'credit_id\\': \\'574f12309251415ca1000012\\', \\'department\\': \\'Writing\\', \\'gender\\': 2, \\'id\\': 7879, \\'job\\': \\'Original Story\\', \\'name\\': \\'John Lasseter\\', \\'profile_path\\': \\'/7EdqiNbr4FRjIhKHyPPdFfEEEFG.jpg\\'}, {\\'credit_id\\': \\'574f1240c3a3682e7300001c\\', \\'department\\': \\'Writing\\', \\'gender\\': 2, \\'id\\': 12890, \\'job\\': \\'Original Story\\', \\'name\\': \\'Pete Docter\\', \\'profile_path\\': \\'/r6ngPgnReA3RHmKjmSoVsc6Awjp.jpg\\'}, {\\'credit_id\\': \\'574f12519251415c92000015\\', \\'department\\': \\'Writing\\', \\'gender\\': 0, \\'id\\': 7911, \\'job\\': \\'Original Story\\', \\'name\\': \\'Joe Ranft\\', \\'profile_path\\': \\'/f1BoWC2JbCcfP1e5hKfGsxkHzVU.jpg\\'}, {\\'credit_id\\': \\'574f12cec3a3682e82000022\\', \\'department\\': \\'Crew\\', \\'gender\\': 0, \\'id\\': 1629419, \\'job\\': \\'Post Production Supervisor\\', \\'name\\': \\'Patsy Bouge\\', \\'profile_path\\': None}, {\\'credit_id\\': \\'574f14f19251415ca1000082\\', \\'department\\': \\'Art\\', \\'gender\\': 0, \\'id\\': 7961, \\'job\\': \\'Sculptor\\', \\'name\\': \\'Norm DeCarlo\\', \\'profile_path\\': None}, {\\'credit_id\\': \\'5751ae4bc3a3683772002b7f\\', \\'department\\': \\'Visual Effects\\', \\'gender\\': 2, \\'id\\': 12905, \\'job\\': \\'Animation Director\\', \\'name\\': \\'Ash Brannon\\', \\'profile_path\\': \\'/6ueWgPEEBHvS3De2BHYQnYjRTig.jpg\\'}, {\\'credit_id\\': \\'5891edbe9251412dc5007cd6\\', \\'department\\': \\'Sound\\', \\'gender\\': 2, \\'id\\': 7885, \\'job\\': \\'Music\\', \\'name\\': \\'Randy Newman\\', \\'profile_path\\': \\'/w0JzfoiM25nrnxYOzosPHRq6mlE.jpg\\'}, {\\'credit_id\\': \\'589213d39251412dc8009832\\', \\'department\\': \\'Directing\\', \\'gender\\': 0, \\'id\\': 1748707, \\'job\\': \\'Layout\\', \\'name\\': \\'Roman Figun\\', \\'profile_path\\': None}, {\\'credit_id\\': \\'5892173dc3a3680968009351\\', \\'department\\': \\'Sound\\', \\'gender\\': 2, \\'id\\': 4949, \\'job\\': \\'Orchestrator\\', \\'name\\': \\'Don Davis\\', \\'profile_path\\': None}, {\\'credit_id\\': \\'589217cec3a3686b0a0052ba\\', \\'department\\': \\'Sound\\', \\'gender\\': 0, \\'id\\': 1372885, \\'job\\': \\'Music Editor\\', \\'name\\': \\'James Flamberg\\', \\'profile_path\\': None}, {\\'credit_id\\': \\'58921831c3a3686348004a64\\', \\'department\\': \\'Editing\\', \\'gender\\': 0, \\'id\\': 1739962, \\'job\\': \\'Negative Cutter\\', \\'name\\': \\'Mary Beth Smith\\', \\'profile_path\\': None}, {\\'credit_id\\': \\'58921838c3a36809700096c0\\', \\'department\\': \\'Editing\\', \\'gender\\': 0, \\'id\\': 1748513, \\'job\\': \\'Negative Cutter\\', \\'name\\': \\'Rick Mackay\\', \\'profile_path\\': None}, {\\'credit_id\\': \\'589218429251412dd1009d1b\\', \\'department\\': \\'Art\\', \\'gender\\': 0, \\'id\\': 1458006, \\'job\\': \\'Title Designer\\', \\'name\\': \\'Susan Bradley\\', \\'profile_path\\': None}, {\\'credit_id\\': \\'5891ed99c3a3680966007670\\', \\'department\\': \\'Crew\\', \\'gender\\': 0, \\'id\\': 1748557, \\'job\\': \\'Supervising Technical Director\\', \\'name\\': \\'William Reeves\\', \\'profile_path\\': None}, {\\'credit_id\\': \\'5891edcec3a3686b0a002eb2\\', \\'department\\': \\'Sound\\', \\'gender\\': 2, \\'id\\': 7885, \\'job\\': \\'Songs\\', \\'name\\': \\'Randy Newman\\', \\'profile_path\\': \\'/w0JzfoiM25nrnxYOzosPHRq6mlE.jpg\\'}, {\\'credit_id\\': \\'5891edf9c3a36809700075e6\\', \\'department\\': \\'Writing\\', \\'gender\\': 2, \\'id\\': 7, \\'job\\': \\'Original Story\\', \\'name\\': \\'Andrew Stanton\\', \\'profile_path\\': \\'/pvQWsu0qc8JFQhMVJkTHuexUAa1.jpg\\'}, {\\'credit_id\\': \\'58920f0b9251412dd7009104\\', \\'department\\': \\'Crew\\', \\'gender\\': 2, \\'id\\': 12890, \\'job\\': \\'Supervising Animator\\', \\'name\\': \\'Pete Docter\\', \\'profile_path\\': \\'/r6ngPgnReA3RHmKjmSoVsc6Awjp.jpg\\'}, {\\'credit_id\\': \\'58920f1fc3a3680977009021\\', \\'department\\': \\'Sound\\', \\'gender\\': 2, \\'id\\': 2216, \\'job\\': \\'Sound Designer\\', \\'name\\': \\'Gary Rydstrom\\', \\'profile_path\\': \\'/jZpr1nVfO7lldWI0YtmP1FGw7Rj.jpg\\'}, {\\'credit_id\\': \\'58920f389251412dd700912d\\', \\'department\\': \\'Production\\', \\'gender\\': 0, \\'id\\': 12909, \\'job\\': \\'Production Supervisor\\', \\'name\\': \\'Karen Robert Jackson\\', \\'profile_path\\': None}, {\\'credit_id\\': \\'58920fbd9251412dcb00969c\\', \\'department\\': \\'Crew\\', \\'gender\\': 0, \\'id\\': 953331, \\'job\\': \\'Executive Music Producer\\', \\'name\\': \\'Chris Montan\\', \\'profile_path\\': None}, {\\'credit_id\\': \\'589210069251412dd7009219\\', \\'department\\': \\'Visual Effects\\', \\'gender\\': 0, \\'id\\': 7893, \\'job\\': \\'Animation Director\\', \\'name\\': \\'Rich Quade\\', \\'profile_path\\': None}, {\\'credit_id\\': \\'589210329251412dcd00943b\\', \\'department\\': \\'Visual Effects\\', \\'gender\\': 0, \\'id\\': 8025, \\'job\\': \\'Animation\\', \\'name\\': \\'Michael Berenstein\\', \\'profile_path\\': None}, {\\'credit_id\\': \\'5892103bc3a368096a009180\\', \\'department\\': \\'Visual Effects\\', \\'gender\\': 0, \\'id\\': 78009, \\'job\\': \\'Animation\\', \\'name\\': \\'Colin Brady\\', \\'profile_path\\': None}, {\\'credit_id\\': \\'5892105dc3a3680968008db2\\', \\'department\\': \\'Visual Effects\\', \\'gender\\': 0, \\'id\\': 1748682, \\'job\\': \\'Animation\\', \\'name\\': \\'Davey Crockett Feiten\\', \\'profile_path\\': None}, {\\'credit_id\\': \\'589210669251412dcd009466\\', \\'department\\': \\'Visual Effects\\', \\'gender\\': 0, \\'id\\': 1454030, \\'job\\': \\'Animation\\', \\'name\\': \\'Angie Glocka\\', \\'profile_path\\': None}, {\\'credit_id\\': \\'5892107c9251412dd1009613\\', \\'department\\': \\'Visual Effects\\', \\'gender\\': 0, \\'id\\': 1748683, \\'job\\': \\'Animation\\', \\'name\\': \\'Rex Grignon\\', \\'profile_path\\': None}, {\\'credit_id\\': \\'5892108ac3a3680973008d3f\\', \\'department\\': \\'Visual Effects\\', \\'gender\\': 0, \\'id\\': 1748684, \\'job\\': \\'Animation\\', \\'name\\': \\'Tom K. Gurney\\', \\'profile_path\\': None}, {\\'credit_id\\': \\'58921093c3a3686348004477\\', \\'department\\': \\'Visual Effects\\', \\'gender\\': 2, \\'id\\': 8029, \\'job\\': \\'Animation\\', \\'name\\': \\'Jimmy Hayward\\', \\'profile_path\\': \\'/lTDRpudEY7BDwTefXbXzMlmb0ui.jpg\\'}, {\\'credit_id\\': \\'5892109b9251412dcd0094b0\\', \\'department\\': \\'Visual Effects\\', \\'gender\\': 0, \\'id\\': 1426773, \\'job\\': \\'Animation\\', \\'name\\': \\'Hal T. Hickel\\', \\'profile_path\\': None}, {\\'credit_id\\': \\'589210a29251412dc5009a29\\', \\'department\\': \\'Visual Effects\\', \\'gender\\': 0, \\'id\\': 8035, \\'job\\': \\'Animation\\', \\'name\\': \\'Karen Kiser\\', \\'profile_path\\': None}, {\\'credit_id\\': \\'589210ccc3a3680977009191\\', \\'department\\': \\'Visual Effects\\', \\'gender\\': 0, \\'id\\': 1748688, \\'job\\': \\'Animation\\', \\'name\\': \\'Anthony B. LaMolinara\\', \\'profile_path\\': None}, {\\'credit_id\\': \\'589210d7c3a3686b0a004c1f\\', \\'department\\': \\'Visual Effects\\', \\'gender\\': 0, \\'id\\': 587314, \\'job\\': \\'Animation\\', \\'name\\': \\'Guionne Leroy\\', \\'profile_path\\': None}, {\\'credit_id\\': \\'589210e1c3a36809770091a7\\', \\'department\\': \\'Visual Effects\\', \\'gender\\': 2, \\'id\\': 7918, \\'job\\': \\'Animation\\', \\'name\\': \\'Bud Luckey\\', \\'profile_path\\': \\'/pcCh7G19FKMNijmPQg1PMH1btic.jpg\\'}, {\\'credit_id\\': \\'589210ee9251412dc200978a\\', \\'department\\': \\'Visual Effects\\', \\'gender\\': 0, \\'id\\': 1748689, \\'job\\': \\'Animation\\', \\'name\\': \\'Les Major\\', \\'profile_path\\': None}, {\\'credit_id\\': \\'589210fa9251412dc8009595\\', \\'department\\': \\'Visual Effects\\', \\'gender\\': 2, \\'id\\': 7892, \\'job\\': \\'Animation\\', \\'name\\': \\'Glenn McQueen\\', \\'profile_path\\': None}, {\\'credit_id\\': \\'589211029251412dc8009598\\', \\'department\\': \\'Visual Effects\\', \\'gender\\': 0, \\'id\\': 555795, \\'job\\': \\'Animation\\', \\'name\\': \\'Mark Oftedal\\', \\'profile_path\\': None}, {\\'credit_id\\': \\'5892110b9251412dc800959d\\', \\'department\\': \\'Visual Effects\\', \\'gender\\': 2, \\'id\\': 7882, \\'job\\': \\'Animation\\', \\'name\\': \\'Jeff Pidgeon\\', \\'profile_path\\': \\'/yLddkg5HcgbJg00cS13GVBnP0HY.jpg\\'}, {\\'credit_id\\': \\'58921113c3a36863480044e4\\', \\'department\\': \\'Visual Effects\\', \\'gender\\': 0, \\'id\\': 8017, \\'job\\': \\'Animation\\', \\'name\\': \\'Jeff Pratt\\', \\'profile_path\\': None}, {\\'credit_id\\': \\'5892111c9251412dcb0097e9\\', \\'department\\': \\'Visual Effects\\', \\'gender\\': 0, \\'id\\': 1184140, \\'job\\': \\'Animation\\', \\'name\\': \\'Steve Rabatich\\', \\'profile_path\\': None}, {\\'credit_id\\': \\'58921123c3a36809700090f6\\', \\'department\\': \\'Visual Effects\\', \\'gender\\': 0, \\'id\\': 8049, \\'job\\': \\'Animation\\', \\'name\\': \\'Roger Rose\\', \\'profile_path\\': None}, {\\'credit_id\\': \\'5892112b9251412dcb0097fb\\', \\'department\\': \\'Visual Effects\\', \\'gender\\': 0, \\'id\\': 1509559, \\'job\\': \\'Animation\\', \\'name\\': \\'Steve Segal\\', \\'profile_path\\': None}, {\\'credit_id\\': \\'589211349251412dc80095c3\\', \\'department\\': \\'Visual Effects\\', \\'gender\\': 0, \\'id\\': 1748691, \\'job\\': \\'Animation\\', \\'name\\': \\'Doug Sheppeck\\', \\'profile_path\\': None}, {\\'credit_id\\': \\'5892113cc3a3680970009106\\', \\'department\\': \\'Visual Effects\\', \\'gender\\': 0, \\'id\\': 8050, \\'job\\': \\'Animation\\', \\'name\\': \\'Alan Sperling\\', \\'profile_path\\': None}, {\\'credit_id\\': \\'58921148c3a3686b0a004c99\\', \\'department\\': \\'Visual Effects\\', \\'gender\\': 0, \\'id\\': 8010, \\'job\\': \\'Animation\\', \\'name\\': \\'Doug Sweetland\\', \\'profile_path\\': None}, {\\'credit_id\\': \\'58921150c3a3680966009125\\', \\'department\\': \\'Visual Effects\\', \\'gender\\': 0, \\'id\\': 8044, \\'job\\': \\'Animation\\', \\'name\\': \\'David Tart\\', \\'profile_path\\': None}, {\\'credit_id\\': \\'589211629251412dc5009b00\\', \\'department\\': \\'Visual Effects\\', \\'gender\\': 0, \\'id\\': 1454034, \\'job\\': \\'Animation\\', \\'name\\': \\'Ken Willard\\', \\'profile_path\\': None}, {\\'credit_id\\': \\'589211c1c3a3686b0a004d28\\', \\'department\\': \\'Visual Effects\\', \\'gender\\': 0, \\'id\\': 7887, \\'job\\': \\'Visual Effects Supervisor\\', \\'name\\': \\'Thomas Porter\\', \\'profile_path\\': None}, {\\'credit_id\\': \\'589211d4c3a3680968008ed9\\', \\'department\\': \\'Visual Effects\\', \\'gender\\': 0, \\'id\\': 1406878, \\'job\\': \\'Visual Effects\\', \\'name\\': \\'Mark Thomas Henne\\', \\'profile_path\\': None}, {\\'credit_id\\': \\'589211f59251412dd4008e65\\', \\'department\\': \\'Visual Effects\\', \\'gender\\': 0, \\'id\\': 1748698, \\'job\\': \\'Visual Effects\\', \\'name\\': \\'Oren Jacob\\', \\'profile_path\\': None}, {\\'credit_id\\': \\'58921242c3a368096a00939b\\', \\'department\\': \\'Visual Effects\\', \\'gender\\': 0, \\'id\\': 1748699, \\'job\\': \\'Visual Effects\\', \\'name\\': \\'Darwyn Peachey\\', \\'profile_path\\': None}, {\\'credit_id\\': \\'5892124b9251412dc5009bd2\\', \\'department\\': \\'Visual Effects\\', \\'gender\\': 0, \\'id\\': 1748701, \\'job\\': \\'Visual Effects\\', \\'name\\': \\'Mitch Prater\\', \\'profile_path\\': None}, {\\'credit_id\\': \\'58921264c3a3686b0a004dbf\\', \\'department\\': \\'Visual Effects\\', \\'gender\\': 0, \\'id\\': 1748703, \\'job\\': \\'Visual Effects\\', \\'name\\': \\'Brian M. Rosen\\', \\'profile_path\\': None}, {\\'credit_id\\': \\'589212709251412dcd009676\\', \\'department\\': \\'Lighting\\', \\'gender\\': 1, \\'id\\': 12912, \\'job\\': \\'Lighting Supervisor\\', \\'name\\': \\'Sharon Calahan\\', \\'profile_path\\': None}, {\\'credit_id\\': \\'5892127fc3a3686b0a004de5\\', \\'department\\': \\'Lighting\\', \\'gender\\': 0, \\'id\\': 7899, \\'job\\': \\'Lighting Supervisor\\', \\'name\\': \\'Galyn Susman\\', \\'profile_path\\': None}, {\\'credit_id\\': \\'589212cdc3a3680970009268\\', \\'department\\': \\'Visual Effects\\', \\'gender\\': 0, \\'id\\': 12915, \\'job\\': \\'CG Painter\\', \\'name\\': \\'William Cone\\', \\'profile_path\\': None}, {\\'credit_id\\': \\'5892130f9251412dc8009791\\', \\'department\\': \\'Art\\', \\'gender\\': 0, \\'id\\': 1748705, \\'job\\': \\'Sculptor\\', \\'name\\': \\'Shelley Daniels Lekven\\', \\'profile_path\\': None}, {\\'credit_id\\': \\'5892131c9251412dd4008f4c\\', \\'department\\': \\'Visual Effects\\', \\'gender\\': 2, \\'id\\': 7889, \\'job\\': \\'Character Designer\\', \\'name\\': \\'Bob Pauley\\', \\'profile_path\\': None}, {\\'credit_id\\': \\'589213249251412dd100987b\\', \\'department\\': \\'Visual Effects\\', \\'gender\\': 2, \\'id\\': 7918, \\'job\\': \\'Character Designer\\', \\'name\\': \\'Bud Luckey\\', \\'profile_path\\': \\'/pcCh7G19FKMNijmPQg1PMH1btic.jpg\\'}, {\\'credit_id\\': \\'5892132b9251412dc80097b1\\', \\'department\\': \\'Visual Effects\\', \\'gender\\': 2, \\'id\\': 7, \\'job\\': \\'Character Designer\\', \\'name\\': \\'Andrew Stanton\\', \\'profile_path\\': \\'/pvQWsu0qc8JFQhMVJkTHuexUAa1.jpg\\'}, {\\'credit_id\\': \\'58921332c3a368634800467b\\', \\'department\\': \\'Visual Effects\\', \\'gender\\': 0, \\'id\\': 12915, \\'job\\': \\'Character Designer\\', \\'name\\': \\'William Cone\\', \\'profile_path\\': None}, {\\'credit_id\\': \\'5892135f9251412dd4008f90\\', \\'department\\': \\'Visual Effects\\', \\'gender\\': 0, \\'id\\': 1748706, \\'job\\': \\'Character Designer\\', \\'name\\': \\'Steve Johnson\\', \\'profile_path\\': None}, {\\'credit_id\\': \\'58921384c3a3680973008fd4\\', \\'department\\': \\'Visual Effects\\', \\'gender\\': 0, \\'id\\': 1176752, \\'job\\': \\'Character Designer\\', \\'name\\': \\'Dan Haskett\\', \\'profile_path\\': None}, {\\'credit_id\\': \\'5892138e9251412dc20099fc\\', \\'department\\': \\'Visual Effects\\', \\'gender\\': 0, \\'id\\': 1088034, \\'job\\': \\'Character Designer\\', \\'name\\': \\'Tom Holloway\\', \\'profile_path\\': \\'/a0r0T2usTBpgMI5aZbRBDW1fTl8.jpg\\'}, {\\'credit_id\\': \\'58921395c3a368097700942f\\', \\'department\\': \\'Visual Effects\\', \\'gender\\': 0, \\'id\\': 1447465, \\'job\\': \\'Character Designer\\', \\'name\\': \\'Jean Gillmore\\', \\'profile_path\\': None}, {\\'credit_id\\': \\'589213e2c3a3680973009026\\', \\'department\\': \\'Directing\\', \\'gender\\': 0, \\'id\\': 1748709, \\'job\\': \\'Layout\\', \\'name\\': \\'Desirée Mourad\\', \\'profile_path\\': None}, {\\'credit_id\\': \\'589214099251412dc5009d57\\', \\'department\\': \\'Art\\', \\'gender\\': 0, \\'id\\': 1748710, \\'job\\': \\'Set Dresser\\', \\'name\\': \"Kelly O\\'Connell\", \\'profile_path\\': None}, {\\'credit_id\\': \\'58921411c3a3686b0a004f70\\', \\'department\\': \\'Art\\', \\'gender\\': 0, \\'id\\': 1443471, \\'job\\': \\'Set Dresser\\', \\'name\\': \\'Sonoko Konishi\\', \\'profile_path\\': None}, {\\'credit_id\\': \\'58921434c3a368096a00956e\\', \\'department\\': \\'Art\\', \\'gender\\': 0, \\'id\\': 1748711, \\'job\\': \\'Set Dresser\\', \\'name\\': \\'Ann M. Rockwell\\', \\'profile_path\\': None}, {\\'credit_id\\': \\'5892144ac3a36809680090de\\', \\'department\\': \\'Editing\\', \\'gender\\': 0, \\'id\\': 1748712, \\'job\\': \\'Editorial Manager\\', \\'name\\': \\'Julie M. McDonald\\', \\'profile_path\\': None}, {\\'credit_id\\': \\'58921479c3a368096800910f\\', \\'department\\': \\'Editing\\', \\'gender\\': 0, \\'id\\': 1589729, \\'job\\': \\'Assistant Editor\\', \\'name\\': \\'Robin Lee\\', \\'profile_path\\': None}, {\\'credit_id\\': \\'5892148b9251412dd10099cc\\', \\'department\\': \\'Editing\\', \\'gender\\': 0, \\'id\\': 1748716, \\'job\\': \\'Assistant Editor\\', \\'name\\': \\'Tom Freeman\\', \\'profile_path\\': None}, {\\'credit_id\\': \\'589214959251412dcb009b1f\\', \\'department\\': \\'Editing\\', \\'gender\\': 0, \\'id\\': 1748717, \\'job\\': \\'Assistant Editor\\', \\'name\\': \\'Ada Cochavi\\', \\'profile_path\\': None}, {\\'credit_id\\': \\'5892149ec3a3686348004798\\', \\'department\\': \\'Editing\\', \\'gender\\': 0, \\'id\\': 1336438, \\'job\\': \\'Assistant Editor\\', \\'name\\': \\'Dana Mulligan\\', \\'profile_path\\': None}, {\\'credit_id\\': \\'589214adc3a368096a0095db\\', \\'department\\': \\'Editing\\', \\'gender\\': 0, \\'id\\': 1748718, \\'job\\': \\'Editorial Coordinator\\', \\'name\\': \\'Deirdre Morrison\\', \\'profile_path\\': None}, {\\'credit_id\\': \\'589214c7c3a368097700952b\\', \\'department\\': \\'Production\\', \\'gender\\': 0, \\'id\\': 1748719, \\'job\\': \\'Production Coordinator\\', \\'name\\': \\'Lori Lombardo\\', \\'profile_path\\': None}, {\\'credit_id\\': \\'589214cec3a368096a009603\\', \\'department\\': \\'Production\\', \\'gender\\': 0, \\'id\\': 1748720, \\'job\\': \\'Production Coordinator\\', \\'name\\': \\'Ellen Devine\\', \\'profile_path\\': None}, {\\'credit_id\\': \\'589214e39251412dc8009904\\', \\'department\\': \\'Crew\\', \\'gender\\': 0, \\'id\\': 1468014, \\'job\\': \\'Unit Publicist\\', \\'name\\': \\'Lauren Beth Strogoff\\', \\'profile_path\\': None}, {\\'credit_id\\': \\'58921544c3a3686b0a00507d\\', \\'department\\': \\'Sound\\', \\'gender\\': 2, \\'id\\': 2216, \\'job\\': \\'Sound Re-Recording Mixer\\', \\'name\\': \\'Gary Rydstrom\\', \\'profile_path\\': \\'/jZpr1nVfO7lldWI0YtmP1FGw7Rj.jpg\\'}, {\\'credit_id\\': \\'5892154c9251412dd1009a56\\', \\'department\\': \\'Sound\\', \\'gender\\': 0, \\'id\\': 1425978, \\'job\\': \\'Sound Re-Recording Mixer\\', \\'name\\': \\'Gary Summers\\', \\'profile_path\\': None}, {\\'credit_id\\': \\'58921555c3a36809680091bd\\', \\'department\\': \\'Sound\\', \\'gender\\': 2, \\'id\\': 8276, \\'job\\': \\'Supervising Sound Editor\\', \\'name\\': \\'Tim Holland\\', \\'profile_path\\': None}, {\\'credit_id\\': \\'589215c39251412dcb009c12\\', \\'department\\': \\'Sound\\', \\'gender\\': 0, \\'id\\': 7069, \\'job\\': \\'Sound Effects Editor\\', \\'name\\': \\'Pat Jackson\\', \\'profile_path\\': None}, {\\'credit_id\\': \\'58921698c3a368096a009788\\', \\'department\\': \\'Crew\\', \\'gender\\': 2, \\'id\\': 15894, \\'job\\': \\'Sound Design Assistant\\', \\'name\\': \\'Tom Myers\\', \\'profile_path\\': None}, {\\'credit_id\\': \\'589216a89251412dc2009ca4\\', \\'department\\': \\'Sound\\', \\'gender\\': 0, \\'id\\': 1414177, \\'job\\': \\'Assistant Sound Editor\\', \\'name\\': \\'J.R. Grubbs\\', \\'profile_path\\': None}, {\\'credit_id\\': \\'589216c19251412dc2009cb9\\', \\'department\\': \\'Sound\\', \\'gender\\': 1, \\'id\\': 1748724, \\'job\\': \\'Assistant Sound Editor\\', \\'name\\': \\'Susan Sanford\\', \\'profile_path\\': None}, {\\'credit_id\\': \\'589216ccc3a3680973009274\\', \\'department\\': \\'Sound\\', \\'gender\\': 0, \\'id\\': 1748725, \\'job\\': \\'Assistant Sound Editor\\', \\'name\\': \\'Susan Popovic\\', \\'profile_path\\': None}, {\\'credit_id\\': \\'589216d79251412dc8009aa0\\', \\'department\\': \\'Sound\\', \\'gender\\': 0, \\'id\\': 8067, \\'job\\': \\'Assistant Sound Editor\\', \\'name\\': \\'Dan Engstrom\\', \\'profile_path\\': None}, {\\'credit_id\\': \\'589216e49251412dcd009a4f\\', \\'department\\': \\'Production\\', \\'gender\\': 1, \\'id\\': 7902, \\'job\\': \\'Casting Consultant\\', \\'name\\': \\'Ruth Lambert\\', \\'profile_path\\': None}, {\\'credit_id\\': \\'589216f39251412dc2009cf3\\', \\'department\\': \\'Production\\', \\'gender\\': 0, \\'id\\': 84493, \\'job\\': \\'ADR Voice Casting\\', \\'name\\': \\'Mickie McGowan\\', \\'profile_path\\': \\'/k7TjJBfINsg8vLQxJwos6XObAD6.jpg\\'}]'],\n",
       "      dtype=object)"
      ]
     },
     "execution_count": 21,
     "metadata": {},
     "output_type": "execute_result"
    }
   ],
   "source": [
    " credits.head(1)['crew'].values"
   ]
  },
  {
   "cell_type": "code",
   "execution_count": 22,
   "id": "d382ba90",
   "metadata": {},
   "outputs": [],
   "source": [
    "def convert1(obj):\n",
    "    L = []\n",
    "    for i in ast.literal_eval(obj):\n",
    "            a = []\n",
    "            a.append(i['character'])\n",
    "            a.append(i['name'])\n",
    "            a.append(i['profile_path'])\n",
    "            L.append(a)\n",
    "    return L"
   ]
  },
  {
   "cell_type": "code",
   "execution_count": 23,
   "id": "a0a0d205",
   "metadata": {},
   "outputs": [],
   "source": [
    "credits['cast'] = credits['cast'].apply(convert1)"
   ]
  },
  {
   "cell_type": "code",
   "execution_count": 24,
   "id": "60505252",
   "metadata": {},
   "outputs": [
    {
     "data": {
      "text/plain": [
       "array(['[{\\'credit_id\\': \\'52fe4284c3a36847f8024f49\\', \\'department\\': \\'Directing\\', \\'gender\\': 2, \\'id\\': 7879, \\'job\\': \\'Director\\', \\'name\\': \\'John Lasseter\\', \\'profile_path\\': \\'/7EdqiNbr4FRjIhKHyPPdFfEEEFG.jpg\\'}, {\\'credit_id\\': \\'52fe4284c3a36847f8024f4f\\', \\'department\\': \\'Writing\\', \\'gender\\': 2, \\'id\\': 12891, \\'job\\': \\'Screenplay\\', \\'name\\': \\'Joss Whedon\\', \\'profile_path\\': \\'/dTiVsuaTVTeGmvkhcyJvKp2A5kr.jpg\\'}, {\\'credit_id\\': \\'52fe4284c3a36847f8024f55\\', \\'department\\': \\'Writing\\', \\'gender\\': 2, \\'id\\': 7, \\'job\\': \\'Screenplay\\', \\'name\\': \\'Andrew Stanton\\', \\'profile_path\\': \\'/pvQWsu0qc8JFQhMVJkTHuexUAa1.jpg\\'}, {\\'credit_id\\': \\'52fe4284c3a36847f8024f5b\\', \\'department\\': \\'Writing\\', \\'gender\\': 2, \\'id\\': 12892, \\'job\\': \\'Screenplay\\', \\'name\\': \\'Joel Cohen\\', \\'profile_path\\': \\'/dAubAiZcvKFbboWlj7oXOkZnTSu.jpg\\'}, {\\'credit_id\\': \\'52fe4284c3a36847f8024f61\\', \\'department\\': \\'Writing\\', \\'gender\\': 0, \\'id\\': 12893, \\'job\\': \\'Screenplay\\', \\'name\\': \\'Alec Sokolow\\', \\'profile_path\\': \\'/v79vlRYi94BZUQnkkyznbGUZLjT.jpg\\'}, {\\'credit_id\\': \\'52fe4284c3a36847f8024f67\\', \\'department\\': \\'Production\\', \\'gender\\': 1, \\'id\\': 12894, \\'job\\': \\'Producer\\', \\'name\\': \\'Bonnie Arnold\\', \\'profile_path\\': None}, {\\'credit_id\\': \\'52fe4284c3a36847f8024f6d\\', \\'department\\': \\'Production\\', \\'gender\\': 0, \\'id\\': 12895, \\'job\\': \\'Executive Producer\\', \\'name\\': \\'Ed Catmull\\', \\'profile_path\\': None}, {\\'credit_id\\': \\'52fe4284c3a36847f8024f73\\', \\'department\\': \\'Production\\', \\'gender\\': 2, \\'id\\': 12896, \\'job\\': \\'Producer\\', \\'name\\': \\'Ralph Guggenheim\\', \\'profile_path\\': None}, {\\'credit_id\\': \\'52fe4284c3a36847f8024f79\\', \\'department\\': \\'Production\\', \\'gender\\': 2, \\'id\\': 12897, \\'job\\': \\'Executive Producer\\', \\'name\\': \\'Steve Jobs\\', \\'profile_path\\': \\'/mOMP3SwD5qWQSR0ldCIByd3guTV.jpg\\'}, {\\'credit_id\\': \\'52fe4284c3a36847f8024f8b\\', \\'department\\': \\'Editing\\', \\'gender\\': 2, \\'id\\': 8, \\'job\\': \\'Editor\\', \\'name\\': \\'Lee Unkrich\\', \\'profile_path\\': \\'/bdTCCXjgOV3YyaNmLGYGOxFQMOc.jpg\\'}, {\\'credit_id\\': \\'52fe4284c3a36847f8024f91\\', \\'department\\': \\'Art\\', \\'gender\\': 2, \\'id\\': 7883, \\'job\\': \\'Art Direction\\', \\'name\\': \\'Ralph Eggleston\\', \\'profile_path\\': \\'/uUfcGKDsKO1aROMpXRs67Hn6RvR.jpg\\'}, {\\'credit_id\\': \\'598331bf925141421201044b\\', \\'department\\': \\'Editing\\', \\'gender\\': 2, \\'id\\': 1168870, \\'job\\': \\'Editor\\', \\'name\\': \\'Robert Gordon\\', \\'profile_path\\': None}, {\\'credit_id\\': \\'5892168cc3a36809660095f9\\', \\'department\\': \\'Sound\\', \\'gender\\': 0, \\'id\\': 1552883, \\'job\\': \\'Foley Editor\\', \\'name\\': \\'Mary Helen Leasman\\', \\'profile_path\\': None}, {\\'credit_id\\': \\'5531824d9251415289000945\\', \\'department\\': \\'Visual Effects\\', \\'gender\\': 0, \\'id\\': 1453514, \\'job\\': \\'Animation\\', \\'name\\': \\'Kim Blanchette\\', \\'profile_path\\': None}, {\\'credit_id\\': \\'589215969251412dcb009bf6\\', \\'department\\': \\'Sound\\', \\'gender\\': 0, \\'id\\': 1414182, \\'job\\': \\'ADR Editor\\', \\'name\\': \\'Marilyn McCoppen\\', \\'profile_path\\': None}, {\\'credit_id\\': \\'589217099251412dc500a018\\', \\'department\\': \\'Sound\\', \\'gender\\': 2, \\'id\\': 7885, \\'job\\': \\'Orchestrator\\', \\'name\\': \\'Randy Newman\\', \\'profile_path\\': \\'/w0JzfoiM25nrnxYOzosPHRq6mlE.jpg\\'}, {\\'credit_id\\': \\'5693e6b29251417b0e0000e3\\', \\'department\\': \\'Editing\\', \\'gender\\': 0, \\'id\\': 1429549, \\'job\\': \\'Color Timer\\', \\'name\\': \\'Dale E. Grahn\\', \\'profile_path\\': None}, {\\'credit_id\\': \\'572e2522c3a36869e6001a9c\\', \\'department\\': \\'Visual Effects\\', \\'gender\\': 0, \\'id\\': 7949, \\'job\\': \\'CG Painter\\', \\'name\\': \\'Robin Cooper\\', \\'profile_path\\': None}, {\\'credit_id\\': \\'574f12309251415ca1000012\\', \\'department\\': \\'Writing\\', \\'gender\\': 2, \\'id\\': 7879, \\'job\\': \\'Original Story\\', \\'name\\': \\'John Lasseter\\', \\'profile_path\\': \\'/7EdqiNbr4FRjIhKHyPPdFfEEEFG.jpg\\'}, {\\'credit_id\\': \\'574f1240c3a3682e7300001c\\', \\'department\\': \\'Writing\\', \\'gender\\': 2, \\'id\\': 12890, \\'job\\': \\'Original Story\\', \\'name\\': \\'Pete Docter\\', \\'profile_path\\': \\'/r6ngPgnReA3RHmKjmSoVsc6Awjp.jpg\\'}, {\\'credit_id\\': \\'574f12519251415c92000015\\', \\'department\\': \\'Writing\\', \\'gender\\': 0, \\'id\\': 7911, \\'job\\': \\'Original Story\\', \\'name\\': \\'Joe Ranft\\', \\'profile_path\\': \\'/f1BoWC2JbCcfP1e5hKfGsxkHzVU.jpg\\'}, {\\'credit_id\\': \\'574f12cec3a3682e82000022\\', \\'department\\': \\'Crew\\', \\'gender\\': 0, \\'id\\': 1629419, \\'job\\': \\'Post Production Supervisor\\', \\'name\\': \\'Patsy Bouge\\', \\'profile_path\\': None}, {\\'credit_id\\': \\'574f14f19251415ca1000082\\', \\'department\\': \\'Art\\', \\'gender\\': 0, \\'id\\': 7961, \\'job\\': \\'Sculptor\\', \\'name\\': \\'Norm DeCarlo\\', \\'profile_path\\': None}, {\\'credit_id\\': \\'5751ae4bc3a3683772002b7f\\', \\'department\\': \\'Visual Effects\\', \\'gender\\': 2, \\'id\\': 12905, \\'job\\': \\'Animation Director\\', \\'name\\': \\'Ash Brannon\\', \\'profile_path\\': \\'/6ueWgPEEBHvS3De2BHYQnYjRTig.jpg\\'}, {\\'credit_id\\': \\'5891edbe9251412dc5007cd6\\', \\'department\\': \\'Sound\\', \\'gender\\': 2, \\'id\\': 7885, \\'job\\': \\'Music\\', \\'name\\': \\'Randy Newman\\', \\'profile_path\\': \\'/w0JzfoiM25nrnxYOzosPHRq6mlE.jpg\\'}, {\\'credit_id\\': \\'589213d39251412dc8009832\\', \\'department\\': \\'Directing\\', \\'gender\\': 0, \\'id\\': 1748707, \\'job\\': \\'Layout\\', \\'name\\': \\'Roman Figun\\', \\'profile_path\\': None}, {\\'credit_id\\': \\'5892173dc3a3680968009351\\', \\'department\\': \\'Sound\\', \\'gender\\': 2, \\'id\\': 4949, \\'job\\': \\'Orchestrator\\', \\'name\\': \\'Don Davis\\', \\'profile_path\\': None}, {\\'credit_id\\': \\'589217cec3a3686b0a0052ba\\', \\'department\\': \\'Sound\\', \\'gender\\': 0, \\'id\\': 1372885, \\'job\\': \\'Music Editor\\', \\'name\\': \\'James Flamberg\\', \\'profile_path\\': None}, {\\'credit_id\\': \\'58921831c3a3686348004a64\\', \\'department\\': \\'Editing\\', \\'gender\\': 0, \\'id\\': 1739962, \\'job\\': \\'Negative Cutter\\', \\'name\\': \\'Mary Beth Smith\\', \\'profile_path\\': None}, {\\'credit_id\\': \\'58921838c3a36809700096c0\\', \\'department\\': \\'Editing\\', \\'gender\\': 0, \\'id\\': 1748513, \\'job\\': \\'Negative Cutter\\', \\'name\\': \\'Rick Mackay\\', \\'profile_path\\': None}, {\\'credit_id\\': \\'589218429251412dd1009d1b\\', \\'department\\': \\'Art\\', \\'gender\\': 0, \\'id\\': 1458006, \\'job\\': \\'Title Designer\\', \\'name\\': \\'Susan Bradley\\', \\'profile_path\\': None}, {\\'credit_id\\': \\'5891ed99c3a3680966007670\\', \\'department\\': \\'Crew\\', \\'gender\\': 0, \\'id\\': 1748557, \\'job\\': \\'Supervising Technical Director\\', \\'name\\': \\'William Reeves\\', \\'profile_path\\': None}, {\\'credit_id\\': \\'5891edcec3a3686b0a002eb2\\', \\'department\\': \\'Sound\\', \\'gender\\': 2, \\'id\\': 7885, \\'job\\': \\'Songs\\', \\'name\\': \\'Randy Newman\\', \\'profile_path\\': \\'/w0JzfoiM25nrnxYOzosPHRq6mlE.jpg\\'}, {\\'credit_id\\': \\'5891edf9c3a36809700075e6\\', \\'department\\': \\'Writing\\', \\'gender\\': 2, \\'id\\': 7, \\'job\\': \\'Original Story\\', \\'name\\': \\'Andrew Stanton\\', \\'profile_path\\': \\'/pvQWsu0qc8JFQhMVJkTHuexUAa1.jpg\\'}, {\\'credit_id\\': \\'58920f0b9251412dd7009104\\', \\'department\\': \\'Crew\\', \\'gender\\': 2, \\'id\\': 12890, \\'job\\': \\'Supervising Animator\\', \\'name\\': \\'Pete Docter\\', \\'profile_path\\': \\'/r6ngPgnReA3RHmKjmSoVsc6Awjp.jpg\\'}, {\\'credit_id\\': \\'58920f1fc3a3680977009021\\', \\'department\\': \\'Sound\\', \\'gender\\': 2, \\'id\\': 2216, \\'job\\': \\'Sound Designer\\', \\'name\\': \\'Gary Rydstrom\\', \\'profile_path\\': \\'/jZpr1nVfO7lldWI0YtmP1FGw7Rj.jpg\\'}, {\\'credit_id\\': \\'58920f389251412dd700912d\\', \\'department\\': \\'Production\\', \\'gender\\': 0, \\'id\\': 12909, \\'job\\': \\'Production Supervisor\\', \\'name\\': \\'Karen Robert Jackson\\', \\'profile_path\\': None}, {\\'credit_id\\': \\'58920fbd9251412dcb00969c\\', \\'department\\': \\'Crew\\', \\'gender\\': 0, \\'id\\': 953331, \\'job\\': \\'Executive Music Producer\\', \\'name\\': \\'Chris Montan\\', \\'profile_path\\': None}, {\\'credit_id\\': \\'589210069251412dd7009219\\', \\'department\\': \\'Visual Effects\\', \\'gender\\': 0, \\'id\\': 7893, \\'job\\': \\'Animation Director\\', \\'name\\': \\'Rich Quade\\', \\'profile_path\\': None}, {\\'credit_id\\': \\'589210329251412dcd00943b\\', \\'department\\': \\'Visual Effects\\', \\'gender\\': 0, \\'id\\': 8025, \\'job\\': \\'Animation\\', \\'name\\': \\'Michael Berenstein\\', \\'profile_path\\': None}, {\\'credit_id\\': \\'5892103bc3a368096a009180\\', \\'department\\': \\'Visual Effects\\', \\'gender\\': 0, \\'id\\': 78009, \\'job\\': \\'Animation\\', \\'name\\': \\'Colin Brady\\', \\'profile_path\\': None}, {\\'credit_id\\': \\'5892105dc3a3680968008db2\\', \\'department\\': \\'Visual Effects\\', \\'gender\\': 0, \\'id\\': 1748682, \\'job\\': \\'Animation\\', \\'name\\': \\'Davey Crockett Feiten\\', \\'profile_path\\': None}, {\\'credit_id\\': \\'589210669251412dcd009466\\', \\'department\\': \\'Visual Effects\\', \\'gender\\': 0, \\'id\\': 1454030, \\'job\\': \\'Animation\\', \\'name\\': \\'Angie Glocka\\', \\'profile_path\\': None}, {\\'credit_id\\': \\'5892107c9251412dd1009613\\', \\'department\\': \\'Visual Effects\\', \\'gender\\': 0, \\'id\\': 1748683, \\'job\\': \\'Animation\\', \\'name\\': \\'Rex Grignon\\', \\'profile_path\\': None}, {\\'credit_id\\': \\'5892108ac3a3680973008d3f\\', \\'department\\': \\'Visual Effects\\', \\'gender\\': 0, \\'id\\': 1748684, \\'job\\': \\'Animation\\', \\'name\\': \\'Tom K. Gurney\\', \\'profile_path\\': None}, {\\'credit_id\\': \\'58921093c3a3686348004477\\', \\'department\\': \\'Visual Effects\\', \\'gender\\': 2, \\'id\\': 8029, \\'job\\': \\'Animation\\', \\'name\\': \\'Jimmy Hayward\\', \\'profile_path\\': \\'/lTDRpudEY7BDwTefXbXzMlmb0ui.jpg\\'}, {\\'credit_id\\': \\'5892109b9251412dcd0094b0\\', \\'department\\': \\'Visual Effects\\', \\'gender\\': 0, \\'id\\': 1426773, \\'job\\': \\'Animation\\', \\'name\\': \\'Hal T. Hickel\\', \\'profile_path\\': None}, {\\'credit_id\\': \\'589210a29251412dc5009a29\\', \\'department\\': \\'Visual Effects\\', \\'gender\\': 0, \\'id\\': 8035, \\'job\\': \\'Animation\\', \\'name\\': \\'Karen Kiser\\', \\'profile_path\\': None}, {\\'credit_id\\': \\'589210ccc3a3680977009191\\', \\'department\\': \\'Visual Effects\\', \\'gender\\': 0, \\'id\\': 1748688, \\'job\\': \\'Animation\\', \\'name\\': \\'Anthony B. LaMolinara\\', \\'profile_path\\': None}, {\\'credit_id\\': \\'589210d7c3a3686b0a004c1f\\', \\'department\\': \\'Visual Effects\\', \\'gender\\': 0, \\'id\\': 587314, \\'job\\': \\'Animation\\', \\'name\\': \\'Guionne Leroy\\', \\'profile_path\\': None}, {\\'credit_id\\': \\'589210e1c3a36809770091a7\\', \\'department\\': \\'Visual Effects\\', \\'gender\\': 2, \\'id\\': 7918, \\'job\\': \\'Animation\\', \\'name\\': \\'Bud Luckey\\', \\'profile_path\\': \\'/pcCh7G19FKMNijmPQg1PMH1btic.jpg\\'}, {\\'credit_id\\': \\'589210ee9251412dc200978a\\', \\'department\\': \\'Visual Effects\\', \\'gender\\': 0, \\'id\\': 1748689, \\'job\\': \\'Animation\\', \\'name\\': \\'Les Major\\', \\'profile_path\\': None}, {\\'credit_id\\': \\'589210fa9251412dc8009595\\', \\'department\\': \\'Visual Effects\\', \\'gender\\': 2, \\'id\\': 7892, \\'job\\': \\'Animation\\', \\'name\\': \\'Glenn McQueen\\', \\'profile_path\\': None}, {\\'credit_id\\': \\'589211029251412dc8009598\\', \\'department\\': \\'Visual Effects\\', \\'gender\\': 0, \\'id\\': 555795, \\'job\\': \\'Animation\\', \\'name\\': \\'Mark Oftedal\\', \\'profile_path\\': None}, {\\'credit_id\\': \\'5892110b9251412dc800959d\\', \\'department\\': \\'Visual Effects\\', \\'gender\\': 2, \\'id\\': 7882, \\'job\\': \\'Animation\\', \\'name\\': \\'Jeff Pidgeon\\', \\'profile_path\\': \\'/yLddkg5HcgbJg00cS13GVBnP0HY.jpg\\'}, {\\'credit_id\\': \\'58921113c3a36863480044e4\\', \\'department\\': \\'Visual Effects\\', \\'gender\\': 0, \\'id\\': 8017, \\'job\\': \\'Animation\\', \\'name\\': \\'Jeff Pratt\\', \\'profile_path\\': None}, {\\'credit_id\\': \\'5892111c9251412dcb0097e9\\', \\'department\\': \\'Visual Effects\\', \\'gender\\': 0, \\'id\\': 1184140, \\'job\\': \\'Animation\\', \\'name\\': \\'Steve Rabatich\\', \\'profile_path\\': None}, {\\'credit_id\\': \\'58921123c3a36809700090f6\\', \\'department\\': \\'Visual Effects\\', \\'gender\\': 0, \\'id\\': 8049, \\'job\\': \\'Animation\\', \\'name\\': \\'Roger Rose\\', \\'profile_path\\': None}, {\\'credit_id\\': \\'5892112b9251412dcb0097fb\\', \\'department\\': \\'Visual Effects\\', \\'gender\\': 0, \\'id\\': 1509559, \\'job\\': \\'Animation\\', \\'name\\': \\'Steve Segal\\', \\'profile_path\\': None}, {\\'credit_id\\': \\'589211349251412dc80095c3\\', \\'department\\': \\'Visual Effects\\', \\'gender\\': 0, \\'id\\': 1748691, \\'job\\': \\'Animation\\', \\'name\\': \\'Doug Sheppeck\\', \\'profile_path\\': None}, {\\'credit_id\\': \\'5892113cc3a3680970009106\\', \\'department\\': \\'Visual Effects\\', \\'gender\\': 0, \\'id\\': 8050, \\'job\\': \\'Animation\\', \\'name\\': \\'Alan Sperling\\', \\'profile_path\\': None}, {\\'credit_id\\': \\'58921148c3a3686b0a004c99\\', \\'department\\': \\'Visual Effects\\', \\'gender\\': 0, \\'id\\': 8010, \\'job\\': \\'Animation\\', \\'name\\': \\'Doug Sweetland\\', \\'profile_path\\': None}, {\\'credit_id\\': \\'58921150c3a3680966009125\\', \\'department\\': \\'Visual Effects\\', \\'gender\\': 0, \\'id\\': 8044, \\'job\\': \\'Animation\\', \\'name\\': \\'David Tart\\', \\'profile_path\\': None}, {\\'credit_id\\': \\'589211629251412dc5009b00\\', \\'department\\': \\'Visual Effects\\', \\'gender\\': 0, \\'id\\': 1454034, \\'job\\': \\'Animation\\', \\'name\\': \\'Ken Willard\\', \\'profile_path\\': None}, {\\'credit_id\\': \\'589211c1c3a3686b0a004d28\\', \\'department\\': \\'Visual Effects\\', \\'gender\\': 0, \\'id\\': 7887, \\'job\\': \\'Visual Effects Supervisor\\', \\'name\\': \\'Thomas Porter\\', \\'profile_path\\': None}, {\\'credit_id\\': \\'589211d4c3a3680968008ed9\\', \\'department\\': \\'Visual Effects\\', \\'gender\\': 0, \\'id\\': 1406878, \\'job\\': \\'Visual Effects\\', \\'name\\': \\'Mark Thomas Henne\\', \\'profile_path\\': None}, {\\'credit_id\\': \\'589211f59251412dd4008e65\\', \\'department\\': \\'Visual Effects\\', \\'gender\\': 0, \\'id\\': 1748698, \\'job\\': \\'Visual Effects\\', \\'name\\': \\'Oren Jacob\\', \\'profile_path\\': None}, {\\'credit_id\\': \\'58921242c3a368096a00939b\\', \\'department\\': \\'Visual Effects\\', \\'gender\\': 0, \\'id\\': 1748699, \\'job\\': \\'Visual Effects\\', \\'name\\': \\'Darwyn Peachey\\', \\'profile_path\\': None}, {\\'credit_id\\': \\'5892124b9251412dc5009bd2\\', \\'department\\': \\'Visual Effects\\', \\'gender\\': 0, \\'id\\': 1748701, \\'job\\': \\'Visual Effects\\', \\'name\\': \\'Mitch Prater\\', \\'profile_path\\': None}, {\\'credit_id\\': \\'58921264c3a3686b0a004dbf\\', \\'department\\': \\'Visual Effects\\', \\'gender\\': 0, \\'id\\': 1748703, \\'job\\': \\'Visual Effects\\', \\'name\\': \\'Brian M. Rosen\\', \\'profile_path\\': None}, {\\'credit_id\\': \\'589212709251412dcd009676\\', \\'department\\': \\'Lighting\\', \\'gender\\': 1, \\'id\\': 12912, \\'job\\': \\'Lighting Supervisor\\', \\'name\\': \\'Sharon Calahan\\', \\'profile_path\\': None}, {\\'credit_id\\': \\'5892127fc3a3686b0a004de5\\', \\'department\\': \\'Lighting\\', \\'gender\\': 0, \\'id\\': 7899, \\'job\\': \\'Lighting Supervisor\\', \\'name\\': \\'Galyn Susman\\', \\'profile_path\\': None}, {\\'credit_id\\': \\'589212cdc3a3680970009268\\', \\'department\\': \\'Visual Effects\\', \\'gender\\': 0, \\'id\\': 12915, \\'job\\': \\'CG Painter\\', \\'name\\': \\'William Cone\\', \\'profile_path\\': None}, {\\'credit_id\\': \\'5892130f9251412dc8009791\\', \\'department\\': \\'Art\\', \\'gender\\': 0, \\'id\\': 1748705, \\'job\\': \\'Sculptor\\', \\'name\\': \\'Shelley Daniels Lekven\\', \\'profile_path\\': None}, {\\'credit_id\\': \\'5892131c9251412dd4008f4c\\', \\'department\\': \\'Visual Effects\\', \\'gender\\': 2, \\'id\\': 7889, \\'job\\': \\'Character Designer\\', \\'name\\': \\'Bob Pauley\\', \\'profile_path\\': None}, {\\'credit_id\\': \\'589213249251412dd100987b\\', \\'department\\': \\'Visual Effects\\', \\'gender\\': 2, \\'id\\': 7918, \\'job\\': \\'Character Designer\\', \\'name\\': \\'Bud Luckey\\', \\'profile_path\\': \\'/pcCh7G19FKMNijmPQg1PMH1btic.jpg\\'}, {\\'credit_id\\': \\'5892132b9251412dc80097b1\\', \\'department\\': \\'Visual Effects\\', \\'gender\\': 2, \\'id\\': 7, \\'job\\': \\'Character Designer\\', \\'name\\': \\'Andrew Stanton\\', \\'profile_path\\': \\'/pvQWsu0qc8JFQhMVJkTHuexUAa1.jpg\\'}, {\\'credit_id\\': \\'58921332c3a368634800467b\\', \\'department\\': \\'Visual Effects\\', \\'gender\\': 0, \\'id\\': 12915, \\'job\\': \\'Character Designer\\', \\'name\\': \\'William Cone\\', \\'profile_path\\': None}, {\\'credit_id\\': \\'5892135f9251412dd4008f90\\', \\'department\\': \\'Visual Effects\\', \\'gender\\': 0, \\'id\\': 1748706, \\'job\\': \\'Character Designer\\', \\'name\\': \\'Steve Johnson\\', \\'profile_path\\': None}, {\\'credit_id\\': \\'58921384c3a3680973008fd4\\', \\'department\\': \\'Visual Effects\\', \\'gender\\': 0, \\'id\\': 1176752, \\'job\\': \\'Character Designer\\', \\'name\\': \\'Dan Haskett\\', \\'profile_path\\': None}, {\\'credit_id\\': \\'5892138e9251412dc20099fc\\', \\'department\\': \\'Visual Effects\\', \\'gender\\': 0, \\'id\\': 1088034, \\'job\\': \\'Character Designer\\', \\'name\\': \\'Tom Holloway\\', \\'profile_path\\': \\'/a0r0T2usTBpgMI5aZbRBDW1fTl8.jpg\\'}, {\\'credit_id\\': \\'58921395c3a368097700942f\\', \\'department\\': \\'Visual Effects\\', \\'gender\\': 0, \\'id\\': 1447465, \\'job\\': \\'Character Designer\\', \\'name\\': \\'Jean Gillmore\\', \\'profile_path\\': None}, {\\'credit_id\\': \\'589213e2c3a3680973009026\\', \\'department\\': \\'Directing\\', \\'gender\\': 0, \\'id\\': 1748709, \\'job\\': \\'Layout\\', \\'name\\': \\'Desirée Mourad\\', \\'profile_path\\': None}, {\\'credit_id\\': \\'589214099251412dc5009d57\\', \\'department\\': \\'Art\\', \\'gender\\': 0, \\'id\\': 1748710, \\'job\\': \\'Set Dresser\\', \\'name\\': \"Kelly O\\'Connell\", \\'profile_path\\': None}, {\\'credit_id\\': \\'58921411c3a3686b0a004f70\\', \\'department\\': \\'Art\\', \\'gender\\': 0, \\'id\\': 1443471, \\'job\\': \\'Set Dresser\\', \\'name\\': \\'Sonoko Konishi\\', \\'profile_path\\': None}, {\\'credit_id\\': \\'58921434c3a368096a00956e\\', \\'department\\': \\'Art\\', \\'gender\\': 0, \\'id\\': 1748711, \\'job\\': \\'Set Dresser\\', \\'name\\': \\'Ann M. Rockwell\\', \\'profile_path\\': None}, {\\'credit_id\\': \\'5892144ac3a36809680090de\\', \\'department\\': \\'Editing\\', \\'gender\\': 0, \\'id\\': 1748712, \\'job\\': \\'Editorial Manager\\', \\'name\\': \\'Julie M. McDonald\\', \\'profile_path\\': None}, {\\'credit_id\\': \\'58921479c3a368096800910f\\', \\'department\\': \\'Editing\\', \\'gender\\': 0, \\'id\\': 1589729, \\'job\\': \\'Assistant Editor\\', \\'name\\': \\'Robin Lee\\', \\'profile_path\\': None}, {\\'credit_id\\': \\'5892148b9251412dd10099cc\\', \\'department\\': \\'Editing\\', \\'gender\\': 0, \\'id\\': 1748716, \\'job\\': \\'Assistant Editor\\', \\'name\\': \\'Tom Freeman\\', \\'profile_path\\': None}, {\\'credit_id\\': \\'589214959251412dcb009b1f\\', \\'department\\': \\'Editing\\', \\'gender\\': 0, \\'id\\': 1748717, \\'job\\': \\'Assistant Editor\\', \\'name\\': \\'Ada Cochavi\\', \\'profile_path\\': None}, {\\'credit_id\\': \\'5892149ec3a3686348004798\\', \\'department\\': \\'Editing\\', \\'gender\\': 0, \\'id\\': 1336438, \\'job\\': \\'Assistant Editor\\', \\'name\\': \\'Dana Mulligan\\', \\'profile_path\\': None}, {\\'credit_id\\': \\'589214adc3a368096a0095db\\', \\'department\\': \\'Editing\\', \\'gender\\': 0, \\'id\\': 1748718, \\'job\\': \\'Editorial Coordinator\\', \\'name\\': \\'Deirdre Morrison\\', \\'profile_path\\': None}, {\\'credit_id\\': \\'589214c7c3a368097700952b\\', \\'department\\': \\'Production\\', \\'gender\\': 0, \\'id\\': 1748719, \\'job\\': \\'Production Coordinator\\', \\'name\\': \\'Lori Lombardo\\', \\'profile_path\\': None}, {\\'credit_id\\': \\'589214cec3a368096a009603\\', \\'department\\': \\'Production\\', \\'gender\\': 0, \\'id\\': 1748720, \\'job\\': \\'Production Coordinator\\', \\'name\\': \\'Ellen Devine\\', \\'profile_path\\': None}, {\\'credit_id\\': \\'589214e39251412dc8009904\\', \\'department\\': \\'Crew\\', \\'gender\\': 0, \\'id\\': 1468014, \\'job\\': \\'Unit Publicist\\', \\'name\\': \\'Lauren Beth Strogoff\\', \\'profile_path\\': None}, {\\'credit_id\\': \\'58921544c3a3686b0a00507d\\', \\'department\\': \\'Sound\\', \\'gender\\': 2, \\'id\\': 2216, \\'job\\': \\'Sound Re-Recording Mixer\\', \\'name\\': \\'Gary Rydstrom\\', \\'profile_path\\': \\'/jZpr1nVfO7lldWI0YtmP1FGw7Rj.jpg\\'}, {\\'credit_id\\': \\'5892154c9251412dd1009a56\\', \\'department\\': \\'Sound\\', \\'gender\\': 0, \\'id\\': 1425978, \\'job\\': \\'Sound Re-Recording Mixer\\', \\'name\\': \\'Gary Summers\\', \\'profile_path\\': None}, {\\'credit_id\\': \\'58921555c3a36809680091bd\\', \\'department\\': \\'Sound\\', \\'gender\\': 2, \\'id\\': 8276, \\'job\\': \\'Supervising Sound Editor\\', \\'name\\': \\'Tim Holland\\', \\'profile_path\\': None}, {\\'credit_id\\': \\'589215c39251412dcb009c12\\', \\'department\\': \\'Sound\\', \\'gender\\': 0, \\'id\\': 7069, \\'job\\': \\'Sound Effects Editor\\', \\'name\\': \\'Pat Jackson\\', \\'profile_path\\': None}, {\\'credit_id\\': \\'58921698c3a368096a009788\\', \\'department\\': \\'Crew\\', \\'gender\\': 2, \\'id\\': 15894, \\'job\\': \\'Sound Design Assistant\\', \\'name\\': \\'Tom Myers\\', \\'profile_path\\': None}, {\\'credit_id\\': \\'589216a89251412dc2009ca4\\', \\'department\\': \\'Sound\\', \\'gender\\': 0, \\'id\\': 1414177, \\'job\\': \\'Assistant Sound Editor\\', \\'name\\': \\'J.R. Grubbs\\', \\'profile_path\\': None}, {\\'credit_id\\': \\'589216c19251412dc2009cb9\\', \\'department\\': \\'Sound\\', \\'gender\\': 1, \\'id\\': 1748724, \\'job\\': \\'Assistant Sound Editor\\', \\'name\\': \\'Susan Sanford\\', \\'profile_path\\': None}, {\\'credit_id\\': \\'589216ccc3a3680973009274\\', \\'department\\': \\'Sound\\', \\'gender\\': 0, \\'id\\': 1748725, \\'job\\': \\'Assistant Sound Editor\\', \\'name\\': \\'Susan Popovic\\', \\'profile_path\\': None}, {\\'credit_id\\': \\'589216d79251412dc8009aa0\\', \\'department\\': \\'Sound\\', \\'gender\\': 0, \\'id\\': 8067, \\'job\\': \\'Assistant Sound Editor\\', \\'name\\': \\'Dan Engstrom\\', \\'profile_path\\': None}, {\\'credit_id\\': \\'589216e49251412dcd009a4f\\', \\'department\\': \\'Production\\', \\'gender\\': 1, \\'id\\': 7902, \\'job\\': \\'Casting Consultant\\', \\'name\\': \\'Ruth Lambert\\', \\'profile_path\\': None}, {\\'credit_id\\': \\'589216f39251412dc2009cf3\\', \\'department\\': \\'Production\\', \\'gender\\': 0, \\'id\\': 84493, \\'job\\': \\'ADR Voice Casting\\', \\'name\\': \\'Mickie McGowan\\', \\'profile_path\\': \\'/k7TjJBfINsg8vLQxJwos6XObAD6.jpg\\'}]'],\n",
       "      dtype=object)"
      ]
     },
     "execution_count": 24,
     "metadata": {},
     "output_type": "execute_result"
    }
   ],
   "source": [
    "credits.head(1)['crew'].values"
   ]
  },
  {
   "cell_type": "code",
   "execution_count": 25,
   "id": "47b16e3c",
   "metadata": {},
   "outputs": [],
   "source": [
    "def convert2(obj):\n",
    "    L=[]\n",
    "    for i in ast.literal_eval(obj):\n",
    "        if i['job']=='Director':\n",
    "            L.append([i['name'],i['profile_path']])\n",
    "        if i['job']=='Original Story':\n",
    "            L.append([i['name'],i['profile_path']])        \n",
    "    return L"
   ]
  },
  {
   "cell_type": "code",
   "execution_count": 26,
   "id": "6f230cac",
   "metadata": {},
   "outputs": [],
   "source": [
    "credits['crew'] = credits['crew'].apply(convert2)"
   ]
  },
  {
   "cell_type": "code",
   "execution_count": 27,
   "id": "ce5b6a66",
   "metadata": {},
   "outputs": [
    {
     "data": {
      "text/plain": [
       "array([list([['John Lasseter', '/7EdqiNbr4FRjIhKHyPPdFfEEEFG.jpg'], ['John Lasseter', '/7EdqiNbr4FRjIhKHyPPdFfEEEFG.jpg'], ['Pete Docter', '/r6ngPgnReA3RHmKjmSoVsc6Awjp.jpg'], ['Joe Ranft', '/f1BoWC2JbCcfP1e5hKfGsxkHzVU.jpg'], ['Andrew Stanton', '/pvQWsu0qc8JFQhMVJkTHuexUAa1.jpg']])],\n",
       "      dtype=object)"
      ]
     },
     "execution_count": 27,
     "metadata": {},
     "output_type": "execute_result"
    }
   ],
   "source": [
    "credits.head(1)['crew'].values"
   ]
  },
  {
   "cell_type": "code",
   "execution_count": 28,
   "id": "ffdf40df",
   "metadata": {},
   "outputs": [],
   "source": [
    "copy_of_movies = dataset.copy()"
   ]
  },
  {
   "cell_type": "code",
   "execution_count": 29,
   "id": "1f2923d7",
   "metadata": {},
   "outputs": [
    {
     "data": {
      "text/html": [
       "<div>\n",
       "<style scoped>\n",
       "    .dataframe tbody tr th:only-of-type {\n",
       "        vertical-align: middle;\n",
       "    }\n",
       "\n",
       "    .dataframe tbody tr th {\n",
       "        vertical-align: top;\n",
       "    }\n",
       "\n",
       "    .dataframe thead th {\n",
       "        text-align: right;\n",
       "    }\n",
       "</style>\n",
       "<table border=\"1\" class=\"dataframe\">\n",
       "  <thead>\n",
       "    <tr style=\"text-align: right;\">\n",
       "      <th></th>\n",
       "      <th>genres</th>\n",
       "      <th>id</th>\n",
       "      <th>imdb_id</th>\n",
       "      <th>original_title</th>\n",
       "      <th>overview</th>\n",
       "      <th>popularity</th>\n",
       "      <th>poster_path</th>\n",
       "      <th>production_companies</th>\n",
       "      <th>production_countries</th>\n",
       "      <th>release_date</th>\n",
       "      <th>revenue</th>\n",
       "      <th>spoken_languages</th>\n",
       "      <th>status</th>\n",
       "      <th>vote_average</th>\n",
       "      <th>vote_count</th>\n",
       "    </tr>\n",
       "  </thead>\n",
       "  <tbody>\n",
       "    <tr>\n",
       "      <th>0</th>\n",
       "      <td>[Animation, Comedy, Family]</td>\n",
       "      <td>862</td>\n",
       "      <td>tt0114709</td>\n",
       "      <td>Toy Story</td>\n",
       "      <td>Led by Woody, Andy's toys live happily in his ...</td>\n",
       "      <td>21.946943</td>\n",
       "      <td>/rhIRbceoE9lR4veEXuwCC2wARtG.jpg</td>\n",
       "      <td>[Pixar Animation Studios]</td>\n",
       "      <td>[United States of America]</td>\n",
       "      <td>1995-10-30</td>\n",
       "      <td>373554033.0</td>\n",
       "      <td>[English]</td>\n",
       "      <td>Released</td>\n",
       "      <td>7.7</td>\n",
       "      <td>5415.0</td>\n",
       "    </tr>\n",
       "    <tr>\n",
       "      <th>1</th>\n",
       "      <td>[Adventure, Fantasy, Family]</td>\n",
       "      <td>8844</td>\n",
       "      <td>tt0113497</td>\n",
       "      <td>Jumanji</td>\n",
       "      <td>When siblings Judy and Peter discover an encha...</td>\n",
       "      <td>17.015539</td>\n",
       "      <td>/vzmL6fP7aPKNKPRTFnZmiUfciyV.jpg</td>\n",
       "      <td>[TriStar Pictures, Teitler Film, Interscope Co...</td>\n",
       "      <td>[United States of America]</td>\n",
       "      <td>1995-12-15</td>\n",
       "      <td>262797249.0</td>\n",
       "      <td>[English, Français]</td>\n",
       "      <td>Released</td>\n",
       "      <td>6.9</td>\n",
       "      <td>2413.0</td>\n",
       "    </tr>\n",
       "    <tr>\n",
       "      <th>2</th>\n",
       "      <td>[Romance, Comedy]</td>\n",
       "      <td>15602</td>\n",
       "      <td>tt0113228</td>\n",
       "      <td>Grumpier Old Men</td>\n",
       "      <td>A family wedding reignites the ancient feud be...</td>\n",
       "      <td>11.7129</td>\n",
       "      <td>/6ksm1sjKMFLbO7UY2i6G1ju9SML.jpg</td>\n",
       "      <td>[Warner Bros., Lancaster Gate]</td>\n",
       "      <td>[United States of America]</td>\n",
       "      <td>1995-12-22</td>\n",
       "      <td>0.0</td>\n",
       "      <td>[English]</td>\n",
       "      <td>Released</td>\n",
       "      <td>6.5</td>\n",
       "      <td>92.0</td>\n",
       "    </tr>\n",
       "    <tr>\n",
       "      <th>3</th>\n",
       "      <td>[Comedy, Drama, Romance]</td>\n",
       "      <td>31357</td>\n",
       "      <td>tt0114885</td>\n",
       "      <td>Waiting to Exhale</td>\n",
       "      <td>Cheated on, mistreated and stepped on, the wom...</td>\n",
       "      <td>3.859495</td>\n",
       "      <td>/16XOMpEaLWkrcPqSQqhTmeJuqQl.jpg</td>\n",
       "      <td>[Twentieth Century Fox Film Corporation]</td>\n",
       "      <td>[United States of America]</td>\n",
       "      <td>1995-12-22</td>\n",
       "      <td>81452156.0</td>\n",
       "      <td>[English]</td>\n",
       "      <td>Released</td>\n",
       "      <td>6.1</td>\n",
       "      <td>34.0</td>\n",
       "    </tr>\n",
       "    <tr>\n",
       "      <th>4</th>\n",
       "      <td>[Comedy]</td>\n",
       "      <td>11862</td>\n",
       "      <td>tt0113041</td>\n",
       "      <td>Father of the Bride Part II</td>\n",
       "      <td>Just when George Banks has recovered from his ...</td>\n",
       "      <td>8.387519</td>\n",
       "      <td>/e64sOI48hQXyru7naBFyssKFxVd.jpg</td>\n",
       "      <td>[Sandollar Productions, Touchstone Pictures]</td>\n",
       "      <td>[United States of America]</td>\n",
       "      <td>1995-02-10</td>\n",
       "      <td>76578911.0</td>\n",
       "      <td>[English]</td>\n",
       "      <td>Released</td>\n",
       "      <td>5.7</td>\n",
       "      <td>173.0</td>\n",
       "    </tr>\n",
       "  </tbody>\n",
       "</table>\n",
       "</div>"
      ],
      "text/plain": [
       "                         genres     id    imdb_id  \\\n",
       "0   [Animation, Comedy, Family]    862  tt0114709   \n",
       "1  [Adventure, Fantasy, Family]   8844  tt0113497   \n",
       "2             [Romance, Comedy]  15602  tt0113228   \n",
       "3      [Comedy, Drama, Romance]  31357  tt0114885   \n",
       "4                      [Comedy]  11862  tt0113041   \n",
       "\n",
       "                original_title  \\\n",
       "0                    Toy Story   \n",
       "1                      Jumanji   \n",
       "2             Grumpier Old Men   \n",
       "3            Waiting to Exhale   \n",
       "4  Father of the Bride Part II   \n",
       "\n",
       "                                            overview popularity  \\\n",
       "0  Led by Woody, Andy's toys live happily in his ...  21.946943   \n",
       "1  When siblings Judy and Peter discover an encha...  17.015539   \n",
       "2  A family wedding reignites the ancient feud be...    11.7129   \n",
       "3  Cheated on, mistreated and stepped on, the wom...   3.859495   \n",
       "4  Just when George Banks has recovered from his ...   8.387519   \n",
       "\n",
       "                        poster_path  \\\n",
       "0  /rhIRbceoE9lR4veEXuwCC2wARtG.jpg   \n",
       "1  /vzmL6fP7aPKNKPRTFnZmiUfciyV.jpg   \n",
       "2  /6ksm1sjKMFLbO7UY2i6G1ju9SML.jpg   \n",
       "3  /16XOMpEaLWkrcPqSQqhTmeJuqQl.jpg   \n",
       "4  /e64sOI48hQXyru7naBFyssKFxVd.jpg   \n",
       "\n",
       "                                production_companies  \\\n",
       "0                          [Pixar Animation Studios]   \n",
       "1  [TriStar Pictures, Teitler Film, Interscope Co...   \n",
       "2                     [Warner Bros., Lancaster Gate]   \n",
       "3           [Twentieth Century Fox Film Corporation]   \n",
       "4       [Sandollar Productions, Touchstone Pictures]   \n",
       "\n",
       "         production_countries release_date      revenue     spoken_languages  \\\n",
       "0  [United States of America]   1995-10-30  373554033.0            [English]   \n",
       "1  [United States of America]   1995-12-15  262797249.0  [English, Français]   \n",
       "2  [United States of America]   1995-12-22          0.0            [English]   \n",
       "3  [United States of America]   1995-12-22   81452156.0            [English]   \n",
       "4  [United States of America]   1995-02-10   76578911.0            [English]   \n",
       "\n",
       "     status  vote_average  vote_count  \n",
       "0  Released           7.7      5415.0  \n",
       "1  Released           6.9      2413.0  \n",
       "2  Released           6.5        92.0  \n",
       "3  Released           6.1        34.0  \n",
       "4  Released           5.7       173.0  "
      ]
     },
     "execution_count": 29,
     "metadata": {},
     "output_type": "execute_result"
    }
   ],
   "source": [
    "copy_of_movies.head()"
   ]
  },
  {
   "cell_type": "code",
   "execution_count": 30,
   "id": "eeda4ea7",
   "metadata": {},
   "outputs": [],
   "source": [
    "copy_of_movies = copy_of_movies.drop(['id','imdb_id','poster_path','status','vote_count'],axis =1)"
   ]
  },
  {
   "cell_type": "code",
   "execution_count": 31,
   "id": "3e7d50b6",
   "metadata": {},
   "outputs": [
    {
     "data": {
      "text/html": [
       "<div>\n",
       "<style scoped>\n",
       "    .dataframe tbody tr th:only-of-type {\n",
       "        vertical-align: middle;\n",
       "    }\n",
       "\n",
       "    .dataframe tbody tr th {\n",
       "        vertical-align: top;\n",
       "    }\n",
       "\n",
       "    .dataframe thead th {\n",
       "        text-align: right;\n",
       "    }\n",
       "</style>\n",
       "<table border=\"1\" class=\"dataframe\">\n",
       "  <thead>\n",
       "    <tr style=\"text-align: right;\">\n",
       "      <th></th>\n",
       "      <th>genres</th>\n",
       "      <th>original_title</th>\n",
       "      <th>overview</th>\n",
       "      <th>popularity</th>\n",
       "      <th>production_companies</th>\n",
       "      <th>production_countries</th>\n",
       "      <th>release_date</th>\n",
       "      <th>revenue</th>\n",
       "      <th>spoken_languages</th>\n",
       "      <th>vote_average</th>\n",
       "    </tr>\n",
       "  </thead>\n",
       "  <tbody>\n",
       "    <tr>\n",
       "      <th>0</th>\n",
       "      <td>[Animation, Comedy, Family]</td>\n",
       "      <td>Toy Story</td>\n",
       "      <td>Led by Woody, Andy's toys live happily in his ...</td>\n",
       "      <td>21.946943</td>\n",
       "      <td>[Pixar Animation Studios]</td>\n",
       "      <td>[United States of America]</td>\n",
       "      <td>1995-10-30</td>\n",
       "      <td>373554033.0</td>\n",
       "      <td>[English]</td>\n",
       "      <td>7.7</td>\n",
       "    </tr>\n",
       "  </tbody>\n",
       "</table>\n",
       "</div>"
      ],
      "text/plain": [
       "                        genres original_title  \\\n",
       "0  [Animation, Comedy, Family]      Toy Story   \n",
       "\n",
       "                                            overview popularity  \\\n",
       "0  Led by Woody, Andy's toys live happily in his ...  21.946943   \n",
       "\n",
       "        production_companies        production_countries release_date  \\\n",
       "0  [Pixar Animation Studios]  [United States of America]   1995-10-30   \n",
       "\n",
       "       revenue spoken_languages  vote_average  \n",
       "0  373554033.0        [English]           7.7  "
      ]
     },
     "execution_count": 31,
     "metadata": {},
     "output_type": "execute_result"
    }
   ],
   "source": [
    "copy_of_movies.head(1)"
   ]
  },
  {
   "cell_type": "code",
   "execution_count": 32,
   "id": "8b9debec",
   "metadata": {},
   "outputs": [],
   "source": [
    "copy_of_movies['genres'] = copy_of_movies['genres'].apply(lambda x:[i.replace(\" \",\"\") for i in x])\n",
    "keyword['keywords'] = keyword['keywords'].apply(lambda x:[i.replace(\" \",\"\") for i in x])\n",
    "copy_of_movies['production_companies'] = copy_of_movies['production_companies'].apply(lambda x:[i.replace(\" \",\"\") for i in x])\n",
    "copy_of_movies['production_countries'] = copy_of_movies['production_countries'].apply(lambda x:[i.replace(\" \",\"\") for i in x])\n",
    "copy_of_movies['overview']=copy_of_movies['overview'].apply(lambda x:x.split())"
   ]
  },
  {
   "cell_type": "code",
   "execution_count": 33,
   "id": "4b603157",
   "metadata": {},
   "outputs": [
    {
     "data": {
      "text/html": [
       "<div>\n",
       "<style scoped>\n",
       "    .dataframe tbody tr th:only-of-type {\n",
       "        vertical-align: middle;\n",
       "    }\n",
       "\n",
       "    .dataframe tbody tr th {\n",
       "        vertical-align: top;\n",
       "    }\n",
       "\n",
       "    .dataframe thead th {\n",
       "        text-align: right;\n",
       "    }\n",
       "</style>\n",
       "<table border=\"1\" class=\"dataframe\">\n",
       "  <thead>\n",
       "    <tr style=\"text-align: right;\">\n",
       "      <th></th>\n",
       "      <th>genres</th>\n",
       "      <th>original_title</th>\n",
       "      <th>overview</th>\n",
       "      <th>popularity</th>\n",
       "      <th>production_companies</th>\n",
       "      <th>production_countries</th>\n",
       "      <th>release_date</th>\n",
       "      <th>revenue</th>\n",
       "      <th>spoken_languages</th>\n",
       "      <th>vote_average</th>\n",
       "    </tr>\n",
       "  </thead>\n",
       "  <tbody>\n",
       "    <tr>\n",
       "      <th>0</th>\n",
       "      <td>[Animation, Comedy, Family]</td>\n",
       "      <td>Toy Story</td>\n",
       "      <td>[Led, by, Woody,, Andy's, toys, live, happily,...</td>\n",
       "      <td>21.946943</td>\n",
       "      <td>[PixarAnimationStudios]</td>\n",
       "      <td>[UnitedStatesofAmerica]</td>\n",
       "      <td>1995-10-30</td>\n",
       "      <td>373554033.0</td>\n",
       "      <td>[English]</td>\n",
       "      <td>7.7</td>\n",
       "    </tr>\n",
       "    <tr>\n",
       "      <th>1</th>\n",
       "      <td>[Adventure, Fantasy, Family]</td>\n",
       "      <td>Jumanji</td>\n",
       "      <td>[When, siblings, Judy, and, Peter, discover, a...</td>\n",
       "      <td>17.015539</td>\n",
       "      <td>[TriStarPictures, TeitlerFilm, InterscopeCommu...</td>\n",
       "      <td>[UnitedStatesofAmerica]</td>\n",
       "      <td>1995-12-15</td>\n",
       "      <td>262797249.0</td>\n",
       "      <td>[English, Français]</td>\n",
       "      <td>6.9</td>\n",
       "    </tr>\n",
       "    <tr>\n",
       "      <th>2</th>\n",
       "      <td>[Romance, Comedy]</td>\n",
       "      <td>Grumpier Old Men</td>\n",
       "      <td>[A, family, wedding, reignites, the, ancient, ...</td>\n",
       "      <td>11.7129</td>\n",
       "      <td>[WarnerBros., LancasterGate]</td>\n",
       "      <td>[UnitedStatesofAmerica]</td>\n",
       "      <td>1995-12-22</td>\n",
       "      <td>0.0</td>\n",
       "      <td>[English]</td>\n",
       "      <td>6.5</td>\n",
       "    </tr>\n",
       "    <tr>\n",
       "      <th>3</th>\n",
       "      <td>[Comedy, Drama, Romance]</td>\n",
       "      <td>Waiting to Exhale</td>\n",
       "      <td>[Cheated, on,, mistreated, and, stepped, on,, ...</td>\n",
       "      <td>3.859495</td>\n",
       "      <td>[TwentiethCenturyFoxFilmCorporation]</td>\n",
       "      <td>[UnitedStatesofAmerica]</td>\n",
       "      <td>1995-12-22</td>\n",
       "      <td>81452156.0</td>\n",
       "      <td>[English]</td>\n",
       "      <td>6.1</td>\n",
       "    </tr>\n",
       "    <tr>\n",
       "      <th>4</th>\n",
       "      <td>[Comedy]</td>\n",
       "      <td>Father of the Bride Part II</td>\n",
       "      <td>[Just, when, George, Banks, has, recovered, fr...</td>\n",
       "      <td>8.387519</td>\n",
       "      <td>[SandollarProductions, TouchstonePictures]</td>\n",
       "      <td>[UnitedStatesofAmerica]</td>\n",
       "      <td>1995-02-10</td>\n",
       "      <td>76578911.0</td>\n",
       "      <td>[English]</td>\n",
       "      <td>5.7</td>\n",
       "    </tr>\n",
       "  </tbody>\n",
       "</table>\n",
       "</div>"
      ],
      "text/plain": [
       "                         genres               original_title  \\\n",
       "0   [Animation, Comedy, Family]                    Toy Story   \n",
       "1  [Adventure, Fantasy, Family]                      Jumanji   \n",
       "2             [Romance, Comedy]             Grumpier Old Men   \n",
       "3      [Comedy, Drama, Romance]            Waiting to Exhale   \n",
       "4                      [Comedy]  Father of the Bride Part II   \n",
       "\n",
       "                                            overview popularity  \\\n",
       "0  [Led, by, Woody,, Andy's, toys, live, happily,...  21.946943   \n",
       "1  [When, siblings, Judy, and, Peter, discover, a...  17.015539   \n",
       "2  [A, family, wedding, reignites, the, ancient, ...    11.7129   \n",
       "3  [Cheated, on,, mistreated, and, stepped, on,, ...   3.859495   \n",
       "4  [Just, when, George, Banks, has, recovered, fr...   8.387519   \n",
       "\n",
       "                                production_companies     production_countries  \\\n",
       "0                            [PixarAnimationStudios]  [UnitedStatesofAmerica]   \n",
       "1  [TriStarPictures, TeitlerFilm, InterscopeCommu...  [UnitedStatesofAmerica]   \n",
       "2                       [WarnerBros., LancasterGate]  [UnitedStatesofAmerica]   \n",
       "3               [TwentiethCenturyFoxFilmCorporation]  [UnitedStatesofAmerica]   \n",
       "4         [SandollarProductions, TouchstonePictures]  [UnitedStatesofAmerica]   \n",
       "\n",
       "  release_date      revenue     spoken_languages  vote_average  \n",
       "0   1995-10-30  373554033.0            [English]           7.7  \n",
       "1   1995-12-15  262797249.0  [English, Français]           6.9  \n",
       "2   1995-12-22          0.0            [English]           6.5  \n",
       "3   1995-12-22   81452156.0            [English]           6.1  \n",
       "4   1995-02-10   76578911.0            [English]           5.7  "
      ]
     },
     "execution_count": 33,
     "metadata": {},
     "output_type": "execute_result"
    }
   ],
   "source": [
    "copy_of_movies.head()"
   ]
  },
  {
   "cell_type": "code",
   "execution_count": null,
   "id": "750fce2c",
   "metadata": {},
   "outputs": [],
   "source": []
  },
  {
   "cell_type": "code",
   "execution_count": 34,
   "id": "cdab9558",
   "metadata": {},
   "outputs": [],
   "source": [
    "copy_of_movies['tags']=copy_of_movies['overview']+copy_of_movies['genres']+keyword['keywords']+copy_of_movies['production_companies']+copy_of_movies['production_countries']+copy_of_movies['spoken_languages']"
   ]
  },
  {
   "cell_type": "code",
   "execution_count": 35,
   "id": "9d61d9be",
   "metadata": {},
   "outputs": [
    {
     "data": {
      "text/plain": [
       "array([list(['Led', 'by', 'Woody,', \"Andy's\", 'toys', 'live', 'happily', 'in', 'his', 'room', 'until', \"Andy's\", 'birthday', 'brings', 'Buzz', 'Lightyear', 'onto', 'the', 'scene.', 'Afraid', 'of', 'losing', 'his', 'place', 'in', \"Andy's\", 'heart,', 'Woody', 'plots', 'against', 'Buzz.', 'But', 'when', 'circumstances', 'separate', 'Buzz', 'and', 'Woody', 'from', 'their', 'owner,', 'the', 'duo', 'eventually', 'learns', 'to', 'put', 'aside', 'their', 'differences.', 'Animation', 'Comedy', 'Family', 'jealousy', 'toy', 'boy', 'friendship', 'friends', 'rivalry', 'boynextdoor', 'newtoy', 'toycomestolife', 'PixarAnimationStudios', 'UnitedStatesofAmerica', 'English'])],\n",
       "      dtype=object)"
      ]
     },
     "execution_count": 35,
     "metadata": {},
     "output_type": "execute_result"
    }
   ],
   "source": [
    "copy_of_movies.head(1)['tags'].values"
   ]
  },
  {
   "cell_type": "code",
   "execution_count": 36,
   "id": "efcc1628",
   "metadata": {},
   "outputs": [
    {
     "data": {
      "text/plain": [
       "array([list([['Woody (voice)', 'Tom Hanks', '/pQFoyx7rp09CJTAb932F2g8Nlho.jpg'], ['Buzz Lightyear (voice)', 'Tim Allen', '/uX2xVf6pMmPepxnvFWyBtjexzgY.jpg'], ['Mr. Potato Head (voice)', 'Don Rickles', '/h5BcaDMPRVLHLDzbQavec4xfSdt.jpg'], ['Slinky Dog (voice)', 'Jim Varney', '/eIo2jVVXYgjDtaHoF19Ll9vtW7h.jpg'], ['Rex (voice)', 'Wallace Shawn', '/oGE6JqPP2xH4tNORKNqxbNPYi7u.jpg'], ['Hamm (voice)', 'John Ratzenberger', '/yGechiKWL6TJDfVE2KPSJYqdMsY.jpg'], ['Bo Peep (voice)', 'Annie Potts', '/eryXT84RL41jHSJcMy4kS3u9y6w.jpg'], ['Andy (voice)', 'John Morris', '/vYGyvK4LzeaUCoNSHtsuqJUY15M.jpg'], ['Sid (voice)', 'Erik von Detten', '/twnF1ZaJ1FUNUuo6xLXwcxjayBE.jpg'], ['Mrs. Davis (voice)', 'Laurie Metcalf', '/unMMIT60eoBM2sN2nyR7EZ2BvvD.jpg'], ['Sergeant (voice)', 'R. Lee Ermey', '/r8GBqFBjypLUP9VVqDqfZ7wYbSs.jpg'], ['Hannah (voice)', 'Sarah Freeman', None], ['TV Announcer (voice)', 'Penn Jillette', '/zmAaXUdx12NRsssgHbk1T31j2x9.jpg']])],\n",
       "      dtype=object)"
      ]
     },
     "execution_count": 36,
     "metadata": {},
     "output_type": "execute_result"
    }
   ],
   "source": [
    "credits.head(1)['cast'].values"
   ]
  },
  {
   "cell_type": "code",
   "execution_count": 37,
   "id": "7f9f5f03",
   "metadata": {},
   "outputs": [],
   "source": [
    "copy_of_credits = credits.copy()"
   ]
  },
  {
   "cell_type": "code",
   "execution_count": 38,
   "id": "8cc41c48",
   "metadata": {},
   "outputs": [],
   "source": [
    "def fetch_name(obj):\n",
    "    L = []\n",
    "    for i in obj:\n",
    "        L.append(i[1])\n",
    "    return L"
   ]
  },
  {
   "cell_type": "code",
   "execution_count": 39,
   "id": "7b7b2842",
   "metadata": {},
   "outputs": [],
   "source": [
    "copy_of_credits['cast'] = copy_of_credits['cast'].apply(fetch_name)"
   ]
  },
  {
   "cell_type": "code",
   "execution_count": 40,
   "id": "475658e5",
   "metadata": {},
   "outputs": [
    {
     "data": {
      "text/plain": [
       "array([list([['John Lasseter', '/7EdqiNbr4FRjIhKHyPPdFfEEEFG.jpg'], ['John Lasseter', '/7EdqiNbr4FRjIhKHyPPdFfEEEFG.jpg'], ['Pete Docter', '/r6ngPgnReA3RHmKjmSoVsc6Awjp.jpg'], ['Joe Ranft', '/f1BoWC2JbCcfP1e5hKfGsxkHzVU.jpg'], ['Andrew Stanton', '/pvQWsu0qc8JFQhMVJkTHuexUAa1.jpg']])],\n",
       "      dtype=object)"
      ]
     },
     "execution_count": 40,
     "metadata": {},
     "output_type": "execute_result"
    }
   ],
   "source": [
    "copy_of_credits.head(1)['crew'].values"
   ]
  },
  {
   "cell_type": "code",
   "execution_count": 41,
   "id": "b7eed976",
   "metadata": {},
   "outputs": [],
   "source": [
    "def fetch_name1(obj):\n",
    "    L = []\n",
    "    for i in obj:\n",
    "        L.append(i[0])\n",
    "    return L"
   ]
  },
  {
   "cell_type": "code",
   "execution_count": 42,
   "id": "1be0bc8d",
   "metadata": {},
   "outputs": [],
   "source": [
    "copy_of_credits['crew'] = copy_of_credits['crew'].apply(fetch_name1)"
   ]
  },
  {
   "cell_type": "code",
   "execution_count": 43,
   "id": "86316a53",
   "metadata": {},
   "outputs": [
    {
     "data": {
      "text/plain": [
       "array([list(['John Lasseter', 'John Lasseter', 'Pete Docter', 'Joe Ranft', 'Andrew Stanton'])],\n",
       "      dtype=object)"
      ]
     },
     "execution_count": 43,
     "metadata": {},
     "output_type": "execute_result"
    }
   ],
   "source": [
    "copy_of_credits.head(1)['crew'].values"
   ]
  },
  {
   "cell_type": "code",
   "execution_count": 44,
   "id": "991ee240",
   "metadata": {},
   "outputs": [],
   "source": [
    "copy_of_credits['crew'] = copy_of_credits['crew'].apply(lambda x:[i.replace(\" \",\"\") for i in x])\n",
    "copy_of_credits['cast'] = copy_of_credits['cast'].apply(lambda x:[i.replace(\" \",\"\") for i in x])"
   ]
  },
  {
   "cell_type": "code",
   "execution_count": 45,
   "id": "3cc08a83",
   "metadata": {},
   "outputs": [
    {
     "data": {
      "text/plain": [
       "array([list(['TomHanks', 'TimAllen', 'DonRickles', 'JimVarney', 'WallaceShawn', 'JohnRatzenberger', 'AnniePotts', 'JohnMorris', 'ErikvonDetten', 'LaurieMetcalf', 'R.LeeErmey', 'SarahFreeman', 'PennJillette'])],\n",
       "      dtype=object)"
      ]
     },
     "execution_count": 45,
     "metadata": {},
     "output_type": "execute_result"
    }
   ],
   "source": [
    "copy_of_credits.head(1)['cast'].values"
   ]
  },
  {
   "cell_type": "code",
   "execution_count": null,
   "id": "498e0945",
   "metadata": {},
   "outputs": [],
   "source": []
  },
  {
   "cell_type": "code",
   "execution_count": null,
   "id": "e0e85525",
   "metadata": {},
   "outputs": [],
   "source": []
  },
  {
   "cell_type": "code",
   "execution_count": 46,
   "id": "a033f74a",
   "metadata": {},
   "outputs": [
    {
     "data": {
      "text/plain": [
       "array([list(['JohnLasseter', 'JohnLasseter', 'PeteDocter', 'JoeRanft', 'AndrewStanton']),\n",
       "       list(['JoeJohnston']), list(['HowardDeutch']), ...,\n",
       "       list(['MarkL.Lester']), list(['YakovProtazanov']),\n",
       "       list(['DaisyAsquith'])], dtype=object)"
      ]
     },
     "execution_count": 46,
     "metadata": {},
     "output_type": "execute_result"
    }
   ],
   "source": [
    "copy_of_credits['crew'].values"
   ]
  },
  {
   "cell_type": "code",
   "execution_count": 47,
   "id": "12ddd344",
   "metadata": {},
   "outputs": [],
   "source": [
    "copy_of_movies['tags'] += copy_of_credits['cast'] + copy_of_credits['crew']"
   ]
  },
  {
   "cell_type": "code",
   "execution_count": 48,
   "id": "f03486ea",
   "metadata": {},
   "outputs": [
    {
     "data": {
      "text/plain": [
       "array([list(['Led', 'by', 'Woody,', \"Andy's\", 'toys', 'live', 'happily', 'in', 'his', 'room', 'until', \"Andy's\", 'birthday', 'brings', 'Buzz', 'Lightyear', 'onto', 'the', 'scene.', 'Afraid', 'of', 'losing', 'his', 'place', 'in', \"Andy's\", 'heart,', 'Woody', 'plots', 'against', 'Buzz.', 'But', 'when', 'circumstances', 'separate', 'Buzz', 'and', 'Woody', 'from', 'their', 'owner,', 'the', 'duo', 'eventually', 'learns', 'to', 'put', 'aside', 'their', 'differences.', 'Animation', 'Comedy', 'Family', 'jealousy', 'toy', 'boy', 'friendship', 'friends', 'rivalry', 'boynextdoor', 'newtoy', 'toycomestolife', 'PixarAnimationStudios', 'UnitedStatesofAmerica', 'English', 'TomHanks', 'TimAllen', 'DonRickles', 'JimVarney', 'WallaceShawn', 'JohnRatzenberger', 'AnniePotts', 'JohnMorris', 'ErikvonDetten', 'LaurieMetcalf', 'R.LeeErmey', 'SarahFreeman', 'PennJillette', 'JohnLasseter', 'JohnLasseter', 'PeteDocter', 'JoeRanft', 'AndrewStanton'])],\n",
       "      dtype=object)"
      ]
     },
     "execution_count": 48,
     "metadata": {},
     "output_type": "execute_result"
    }
   ],
   "source": [
    "copy_of_movies.head(1)['tags'].values"
   ]
  },
  {
   "cell_type": "code",
   "execution_count": 49,
   "id": "81ba1c57",
   "metadata": {},
   "outputs": [],
   "source": [
    "dataset['tags'] = copy_of_movies['tags']"
   ]
  },
  {
   "cell_type": "code",
   "execution_count": 50,
   "id": "3751b160",
   "metadata": {},
   "outputs": [
    {
     "data": {
      "text/plain": [
       "genres                                                            [Drama]\n",
       "id                                                                  18133\n",
       "imdb_id                                                         tt0107889\n",
       "original_title                                                The Program\n",
       "overview                Several players from different backgrounds try...\n",
       "popularity                                                       3.199976\n",
       "poster_path                              /htlXORTSRrJggKYsMMwIagGMXUG.jpg\n",
       "production_companies                                [Touchstone Pictures]\n",
       "production_countries                           [United States of America]\n",
       "release_date                                                   1993-09-24\n",
       "revenue                                                        23042200.0\n",
       "spoken_languages                                                [English]\n",
       "status                                                           Released\n",
       "vote_average                                                          6.0\n",
       "vote_count                                                           28.0\n",
       "tags                    [Several, players, from, different, background...\n",
       "Name: 506, dtype: object"
      ]
     },
     "execution_count": 50,
     "metadata": {},
     "output_type": "execute_result"
    }
   ],
   "source": [
    "dataset.iloc[503]"
   ]
  },
  {
   "cell_type": "code",
   "execution_count": 51,
   "id": "46a6f7c9",
   "metadata": {},
   "outputs": [
    {
     "data": {
      "text/html": [
       "<div>\n",
       "<style scoped>\n",
       "    .dataframe tbody tr th:only-of-type {\n",
       "        vertical-align: middle;\n",
       "    }\n",
       "\n",
       "    .dataframe tbody tr th {\n",
       "        vertical-align: top;\n",
       "    }\n",
       "\n",
       "    .dataframe thead th {\n",
       "        text-align: right;\n",
       "    }\n",
       "</style>\n",
       "<table border=\"1\" class=\"dataframe\">\n",
       "  <thead>\n",
       "    <tr style=\"text-align: right;\">\n",
       "      <th></th>\n",
       "      <th>cast</th>\n",
       "      <th>crew</th>\n",
       "      <th>id</th>\n",
       "    </tr>\n",
       "  </thead>\n",
       "  <tbody>\n",
       "    <tr>\n",
       "      <th>0</th>\n",
       "      <td>[[Woody (voice), Tom Hanks, /pQFoyx7rp09CJTAb9...</td>\n",
       "      <td>[[John Lasseter, /7EdqiNbr4FRjIhKHyPPdFfEEEFG....</td>\n",
       "      <td>862</td>\n",
       "    </tr>\n",
       "    <tr>\n",
       "      <th>1</th>\n",
       "      <td>[[Alan Parrish, Robin Williams, /sojtJyIV3lkUe...</td>\n",
       "      <td>[[Joe Johnston, /fok4jaO62v5IP6hkpaaAcXuw2H.jpg]]</td>\n",
       "      <td>8844</td>\n",
       "    </tr>\n",
       "    <tr>\n",
       "      <th>2</th>\n",
       "      <td>[[Max Goldman, Walter Matthau, /xJVkvprOnzP5Zd...</td>\n",
       "      <td>[[Howard Deutch, /68Vae1HkU1NxQZ6KEmuxIpno7c9....</td>\n",
       "      <td>15602</td>\n",
       "    </tr>\n",
       "    <tr>\n",
       "      <th>3</th>\n",
       "      <td>[[Savannah 'Vannah' Jackson, Whitney Houston, ...</td>\n",
       "      <td>[[Forest Whitaker, /4pMQkelS5lK661m9Kz3oIxLYiy...</td>\n",
       "      <td>31357</td>\n",
       "    </tr>\n",
       "    <tr>\n",
       "      <th>4</th>\n",
       "      <td>[[George Banks, Steve Martin, /rI2EMvkfKKPKa5z...</td>\n",
       "      <td>[[Charles Shyer, /hnWGd74CbmTcDCFQiJ8SYLazIXW....</td>\n",
       "      <td>11862</td>\n",
       "    </tr>\n",
       "  </tbody>\n",
       "</table>\n",
       "</div>"
      ],
      "text/plain": [
       "                                                cast  \\\n",
       "0  [[Woody (voice), Tom Hanks, /pQFoyx7rp09CJTAb9...   \n",
       "1  [[Alan Parrish, Robin Williams, /sojtJyIV3lkUe...   \n",
       "2  [[Max Goldman, Walter Matthau, /xJVkvprOnzP5Zd...   \n",
       "3  [[Savannah 'Vannah' Jackson, Whitney Houston, ...   \n",
       "4  [[George Banks, Steve Martin, /rI2EMvkfKKPKa5z...   \n",
       "\n",
       "                                                crew     id  \n",
       "0  [[John Lasseter, /7EdqiNbr4FRjIhKHyPPdFfEEEFG....    862  \n",
       "1  [[Joe Johnston, /fok4jaO62v5IP6hkpaaAcXuw2H.jpg]]   8844  \n",
       "2  [[Howard Deutch, /68Vae1HkU1NxQZ6KEmuxIpno7c9....  15602  \n",
       "3  [[Forest Whitaker, /4pMQkelS5lK661m9Kz3oIxLYiy...  31357  \n",
       "4  [[Charles Shyer, /hnWGd74CbmTcDCFQiJ8SYLazIXW....  11862  "
      ]
     },
     "execution_count": 51,
     "metadata": {},
     "output_type": "execute_result"
    }
   ],
   "source": [
    "credits.head()"
   ]
  },
  {
   "cell_type": "code",
   "execution_count": 52,
   "id": "58c96aec",
   "metadata": {},
   "outputs": [],
   "source": [
    "def ltos(s):\n",
    "    str = \" \"\n",
    "    return(str.join(s))"
   ]
  },
  {
   "cell_type": "code",
   "execution_count": 53,
   "id": "22d14d76",
   "metadata": {},
   "outputs": [],
   "source": [
    "dataset['tags'] = dataset['tags'].apply(ltos)"
   ]
  },
  {
   "cell_type": "code",
   "execution_count": 54,
   "id": "dad362d3",
   "metadata": {},
   "outputs": [
    {
     "data": {
      "text/plain": [
       "array([\"Led by Woody, Andy's toys live happily in his room until Andy's birthday brings Buzz Lightyear onto the scene. Afraid of losing his place in Andy's heart, Woody plots against Buzz. But when circumstances separate Buzz and Woody from their owner, the duo eventually learns to put aside their differences. Animation Comedy Family jealousy toy boy friendship friends rivalry boynextdoor newtoy toycomestolife PixarAnimationStudios UnitedStatesofAmerica English TomHanks TimAllen DonRickles JimVarney WallaceShawn JohnRatzenberger AnniePotts JohnMorris ErikvonDetten LaurieMetcalf R.LeeErmey SarahFreeman PennJillette JohnLasseter JohnLasseter PeteDocter JoeRanft AndrewStanton\"],\n",
       "      dtype=object)"
      ]
     },
     "execution_count": 54,
     "metadata": {},
     "output_type": "execute_result"
    }
   ],
   "source": [
    "dataset.head(1)['tags'].values"
   ]
  },
  {
   "cell_type": "code",
   "execution_count": 55,
   "id": "ca2e8876",
   "metadata": {},
   "outputs": [],
   "source": [
    "dataset['tags'] = dataset['tags'].apply(lambda x:x.lower())"
   ]
  },
  {
   "cell_type": "code",
   "execution_count": 56,
   "id": "fd097777",
   "metadata": {},
   "outputs": [
    {
     "data": {
      "text/plain": [
       "array([\"led by woody, andy's toys live happily in his room until andy's birthday brings buzz lightyear onto the scene. afraid of losing his place in andy's heart, woody plots against buzz. but when circumstances separate buzz and woody from their owner, the duo eventually learns to put aside their differences. animation comedy family jealousy toy boy friendship friends rivalry boynextdoor newtoy toycomestolife pixaranimationstudios unitedstatesofamerica english tomhanks timallen donrickles jimvarney wallaceshawn johnratzenberger anniepotts johnmorris erikvondetten lauriemetcalf r.leeermey sarahfreeman pennjillette johnlasseter johnlasseter petedocter joeranft andrewstanton\"],\n",
       "      dtype=object)"
      ]
     },
     "execution_count": 56,
     "metadata": {},
     "output_type": "execute_result"
    }
   ],
   "source": [
    "dataset.head(1)['tags'].values"
   ]
  },
  {
   "cell_type": "code",
   "execution_count": 79,
   "id": "3225b5d0",
   "metadata": {},
   "outputs": [],
   "source": [
    "from nltk.tokenize import sent_tokenize\n",
    "from gensim.utils import simple_preprocess\n",
    "alltags = []\n",
    "for ind in dataset.index:\n",
    "    rawsent = sent_tokenize(dataset['tags'][ind])\n",
    "    for sent in rawsent:\n",
    "        alltags.append(simple_preprocess(sent))"
   ]
  },
  {
   "cell_type": "code",
   "execution_count": 81,
   "id": "ffe93b57",
   "metadata": {},
   "outputs": [],
   "source": [
    "from gensim.models import Word2Vec\n",
    "model = Word2Vec(window=5, min_count=1, workers=4)"
   ]
  },
  {
   "cell_type": "code",
   "execution_count": 83,
   "id": "688c1eac",
   "metadata": {},
   "outputs": [],
   "source": [
    "model.build_vocab(alltags)"
   ]
  },
  {
   "cell_type": "code",
   "execution_count": 84,
   "id": "525b6a8e",
   "metadata": {},
   "outputs": [
    {
     "data": {
      "text/plain": [
       "(14043982, 16367915)"
      ]
     },
     "execution_count": 84,
     "metadata": {},
     "output_type": "execute_result"
    }
   ],
   "source": [
    "model.train(alltags,total_examples=model.corpus_count,epochs=model.epochs)\n"
   ]
  },
  {
   "cell_type": "code",
   "execution_count": 122,
   "id": "1f63da98",
   "metadata": {},
   "outputs": [],
   "source": [
    "# for word in dataset.iloc[0][]\n",
    "vectors = []\n",
    "for ind in dataset.index:\n",
    "    v = []\n",
    "    for word in simple_preprocess(dataset[\"tags\"][ind]):\n",
    "        if len(v)==0: v = model.wv[word]\n",
    "        else: v = v + model.wv[word]\n",
    "    vectors.append(v)"
   ]
  },
  {
   "cell_type": "code",
   "execution_count": null,
   "id": "84897a84",
   "metadata": {},
   "outputs": [],
   "source": []
  },
  {
   "cell_type": "code",
   "execution_count": 112,
   "id": "88ed6b41",
   "metadata": {},
   "outputs": [],
   "source": [
    "# from nltk.stem import PorterStemmer\n",
    "# ps = PorterStemmer()"
   ]
  },
  {
   "cell_type": "code",
   "execution_count": 58,
   "id": "8b2053a2",
   "metadata": {},
   "outputs": [],
   "source": [
    "# def stem(text):\n",
    "#     L = []\n",
    "#     for i in text.split():\n",
    "#         L.append(ps.stem(i))\n",
    "#     return \" \".join(L)"
   ]
  },
  {
   "cell_type": "code",
   "execution_count": 59,
   "id": "b7a21ede",
   "metadata": {},
   "outputs": [],
   "source": [
    "# dataset['tags'] = dataset['tags'].apply(stem)"
   ]
  },
  {
   "cell_type": "code",
   "execution_count": 60,
   "id": "bb994727",
   "metadata": {},
   "outputs": [],
   "source": [
    "# sample_data = dataset.iloc[:10000,:]"
   ]
  },
  {
   "cell_type": "code",
   "execution_count": 61,
   "id": "e7dfd81f",
   "metadata": {},
   "outputs": [],
   "source": [
    "# sample_data"
   ]
  },
  {
   "cell_type": "code",
   "execution_count": 62,
   "id": "3ae2ee56",
   "metadata": {},
   "outputs": [],
   "source": [
    "# from sklearn.feature_extraction.text import TfidfVectorizer\n",
    "# cv = TfidfVectorizer(stop_words = 'english' , max_features = 5000)"
   ]
  },
  {
   "cell_type": "code",
   "execution_count": 63,
   "id": "9463f76f",
   "metadata": {},
   "outputs": [],
   "source": [
    "# vetors  = cv.fit_transform(sample_data['tags']).toarray()"
   ]
  },
  {
   "cell_type": "code",
   "execution_count": 64,
   "id": "4051e9fb",
   "metadata": {},
   "outputs": [],
   "source": [
    "# vetors.shape"
   ]
  },
  {
   "cell_type": "code",
   "execution_count": 65,
   "id": "624e1c4d",
   "metadata": {},
   "outputs": [],
   "source": [
    "# from sklearn.metrics.pairwise import cosine_similarity\n",
    "# simlarity = cosine_similarity(vetors)"
   ]
  },
  {
   "cell_type": "code",
   "execution_count": 66,
   "id": "bbb444a9",
   "metadata": {},
   "outputs": [],
   "source": [
    "# simlarity"
   ]
  },
  {
   "cell_type": "code",
   "execution_count": 67,
   "id": "5d2a831e",
   "metadata": {},
   "outputs": [],
   "source": [
    "# print(X)"
   ]
  },
  {
   "cell_type": "code",
   "execution_count": 68,
   "id": "649bccfa",
   "metadata": {},
   "outputs": [],
   "source": [
    "from sklearn.metrics.pairwise import cosine_similarity\n",
    "similarity = cosine_similarity(X[0],X,dense_output=False)"
   ]
  },
  {
   "cell_type": "code",
   "execution_count": 69,
   "id": "907e043b",
   "metadata": {},
   "outputs": [],
   "source": [
    "# list_movies = []\n",
    "# for i in simlarity:\n",
    "#     list_movies.append(sorted(enumerate(i),reverse=-1,key=lambda x:x[1])[1:10])"
   ]
  },
  {
   "cell_type": "code",
   "execution_count": 70,
   "id": "ac762213",
   "metadata": {},
   "outputs": [],
   "source": [
    "# def recommed(movie):\n",
    "#     movie_ind = sample_data[sample_data['original_title'] == movie].index[0]\n",
    "#     recomdded_movies = sorted(enumerate(simlarity[movie_ind]),reverse=-1,key=lambda x:x[1])[1:10]\n",
    "#     for i in recomdded_movies:\n",
    "#         print(dataset.iloc[i[0]]['original_title'])"
   ]
  },
  {
   "cell_type": "code",
   "execution_count": 71,
   "id": "c1098623",
   "metadata": {},
   "outputs": [],
   "source": [
    "# recommed(\"Star Wars\")\n",
    "# Toy Story 2\n",
    "# Walk Like a Man\n",
    "# The Million Dollar Duck\n",
    "# Brighton Beach Memoirs\n",
    "# Benji: Off the Leash!\n",
    "# The Adventures of Elmo in Grouchland\n",
    "# The Trumpet Of The Swan\n",
    "# Carried Away\n",
    "# Rocket Gibraltar"
   ]
  },
  {
   "cell_type": "code",
   "execution_count": 72,
   "id": "f3ac93b9",
   "metadata": {},
   "outputs": [],
   "source": [
    "# import pickle\n",
    "# pickle.dump(list_movies,open('list_movies.pkl','wb'))"
   ]
  },
  {
   "cell_type": "code",
   "execution_count": 73,
   "id": "498d67d9",
   "metadata": {},
   "outputs": [],
   "source": [
    "# pickle.dump(simlarity,open('similarity.pkl','wb'))"
   ]
  },
  {
   "cell_type": "code",
   "execution_count": null,
   "id": "327ef61f",
   "metadata": {},
   "outputs": [],
   "source": []
  }
 ],
 "metadata": {
  "kernelspec": {
   "display_name": "Python 3 (ipykernel)",
   "language": "python",
   "name": "python3"
  },
  "language_info": {
   "codemirror_mode": {
    "name": "ipython",
    "version": 3
   },
   "file_extension": ".py",
   "mimetype": "text/x-python",
   "name": "python",
   "nbconvert_exporter": "python",
   "pygments_lexer": "ipython3",
   "version": "3.10.5"
  }
 },
 "nbformat": 4,
 "nbformat_minor": 5
}
